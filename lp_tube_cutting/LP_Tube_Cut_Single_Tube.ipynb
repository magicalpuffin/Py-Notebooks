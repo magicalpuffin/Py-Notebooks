{
 "cells": [
  {
   "cell_type": "code",
   "execution_count": 35,
   "metadata": {},
   "outputs": [],
   "source": [
    "import pulp as p\n",
    "import pandas as pd\n",
    "\n",
    "# Test data\n",
    "# part_df = pd.read_excel(\"Tube Cut LP Test Data.xlsx\", sheet_name= \"Test Part Data\")\n",
    "# stock_df = pd.read_excel(\"Tube Cut LP Test Data.xlsx\", sheet_name= \"Test Stock Data\")\n",
    "\n",
    "# .049 data\n",
    "# part_df = pd.read_excel(\"Tube Cut LP Test Data.xlsx\", sheet_name= \".049 Part Data\")\n",
    "# stock_df = pd.read_excel(\"Tube Cut LP Test Data.xlsx\", sheet_name= \".049 Stock Data\")\n",
    "\n",
    "# .065 data\n",
    "part_df = pd.read_excel(\"Tube Cut LP Test Data.xlsx\", sheet_name= \".065 Part Data\")\n",
    "# stock_df = pd.read_excel(\"Tube Cut LP Test Data.xlsx\", sheet_name= \".065 Stock Data\")\n",
    "\n",
    "prob = p.LpProblem(\"Tube_Cut\",p.LpMinimize)\n",
    "\n",
    "part_list = list(map(int, part_df[\"Part Number\"]))\n",
    "# stock_list = list(map(int, stock_df[\"Stock Number\"]))\n",
    "\n",
    "part_on_stock = [i for i in part_list]\n",
    "\n",
    "part_lengths = dict(zip(part_list, part_df[\"Length\"]))\n",
    "# # stock_lengths = dict(zip(stock_list, stock_df[\"Length\"]))\n",
    "\n",
    "part_vars = p.LpVariable.dicts(\"Part\", part_list, 0, 1, cat='Integer')\n",
    "# stock_vars = p.LpVariable.dicts(\"Stock\",stock_list, 0, 1, cat='Integer')\n",
    "\n",
    "prob += (p.lpSum([66 - p.lpSum([part_lengths[i] * part_vars[i] for i in part_list])]), \"Excess Stock\")\n",
    "prob += (p.lpSum([66 - p.lpSum([part_lengths[i] * part_vars[i] for i in part_list])]) >= 0, (\"Stock Capacity\"))\n",
    "             \n",
    "# for i in part_list:\n",
    "#     prob += (p.lpSum([part_vars[i][j] for j in stock_list]) - 1 == 0, \n",
    "#              (\"Part Cut \" + str(i)))"
   ]
  },
  {
   "cell_type": "code",
   "execution_count": 36,
   "metadata": {},
   "outputs": [
    {
     "name": "stdout",
     "output_type": "stream",
     "text": [
      "Tube_Cut:\n",
      "MINIMIZE\n",
      "-29.77*Part_21 + -29.77*Part_22 + -30.25*Part_24 + 66.0\n",
      "SUBJECT TO\n",
      "Stock_Capacity: - 29.77 Part_21 - 29.77 Part_22 - 30.25 Part_24 >= -66\n",
      "\n",
      "VARIABLES\n",
      "0 <= Part_21 <= 1 Integer\n",
      "0 <= Part_22 <= 1 Integer\n",
      "0 <= Part_24 <= 1 Integer\n",
      "\n",
      "Status: Optimal\n",
      "Part_21 = 1.0\n",
      "Part_24 = 1.0\n",
      "Excess Material =  5.98\n"
     ]
    }
   ],
   "source": [
    "print(prob)\n",
    "prob.solve()\n",
    "# The status of the solution is printed to the screen\n",
    "print(\"Status:\", p.LpStatus[prob.status])\n",
    "\n",
    "# Each of the variables is printed with it's resolved optimum value\n",
    "for v in prob.variables():\n",
    "    if v.varValue != 0:\n",
    "        print(v.name, \"=\", v.varValue)\n",
    "part_on_stock = [v.varValue for v in prob.variables()]\n",
    "\n",
    "# The optimised objective function value is printed to the console\n",
    "print(\"Excess Material = \", p.value(prob.objective))\n"
   ]
  },
  {
   "cell_type": "code",
   "execution_count": 37,
   "metadata": {},
   "outputs": [
    {
     "name": "stdout",
     "output_type": "stream",
     "text": [
      "Part_24: 1.0\n",
      "Part_21: 1.0\n"
     ]
    }
   ],
   "source": [
    "# part_on_stock\n",
    "# print(part_on_stock)\n",
    "# print(part_vars)\n",
    "# prob.variables()[0]\n",
    "\n",
    "for i in part_list:\n",
    "    if part_vars[i].varValue != 0:\n",
    "        print(str(part_vars[i]) + \": \" + str(part_vars[i].varValue))"
   ]
  },
  {
   "cell_type": "code",
   "execution_count": null,
   "metadata": {},
   "outputs": [],
   "source": []
  }
 ],
 "metadata": {
  "interpreter": {
   "hash": "3e84f05ac0c3f2fe9d6db1d732ba4132d39658c607badfe594e5c68c5b057da7"
  },
  "kernelspec": {
   "display_name": "Python 3.9.6 64-bit ('.venv': venv)",
   "language": "python",
   "name": "python3"
  },
  "language_info": {
   "codemirror_mode": {
    "name": "ipython",
    "version": 3
   },
   "file_extension": ".py",
   "mimetype": "text/x-python",
   "name": "python",
   "nbconvert_exporter": "python",
   "pygments_lexer": "ipython3",
   "version": "3.9.6"
  },
  "orig_nbformat": 4
 },
 "nbformat": 4,
 "nbformat_minor": 2
}
