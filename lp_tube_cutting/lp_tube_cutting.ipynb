{
 "cells": [
  {
   "attachments": {},
   "cell_type": "markdown",
   "metadata": {},
   "source": [
    "# Linear Programming Tube Cutting\n",
    "Using PuLP for linear programming in python. Solving a basic material optimization problem. Determine which parts should be cut on which piece of stock such that scrap material is minimized. All parts and stock are tubes which only have a length. This problem is similar to a 1d bin packing problem.\n",
    "\n",
    "Variables:\n",
    "- $ l_i $ = Length of part i. i = 1, 2, 3, ... n\n",
    "- $ M_j $ = Length of stock j. j = 1, 2, 3, ... m\n",
    "- $ x_{i,j} $ = {1 if part i is cut on stock j, 0 otherwise}\n",
    "- $ y_j $ = {1 if stock j is used, 0 otherwise}\n",
    "\n",
    "Objective:\n",
    "- Minimize the excess stock material after all parts are cut.\n",
    "\n",
    "$$ min \\sum_{j=1}^{m} (M_j * y_j - \\sum_{i=1}^{n} l_i * x_{i,j}) $$\n",
    "\n",
    "Subject to:\n",
    "- Total length of parts cut can not exceed stock length used.\n",
    "- All parts must be cut once\n",
    "\n",
    "$$ M_j * y_j - \\sum_{i=1}^{n} l_i * x_{i,j} \\geq 0 \\quad \\forall j$$\n",
    "$$ \\sum_{j=1}^{m} x_{i,j} = 1 \\quad \\forall i$$\n",
    "\n",
    "Note:\n",
    "- There is an implied condition that $ x_{i,j} $ can only be 1 if $ y_j $ is also 1 for the given j.\n",
    "- There will be an error if tubes can't be cut"
   ]
  },
  {
   "cell_type": "code",
   "execution_count": 196,
   "metadata": {},
   "outputs": [],
   "source": [
    "import pulp\n",
    "import pandas as pd"
   ]
  },
  {
   "cell_type": "code",
   "execution_count": 197,
   "metadata": {},
   "outputs": [],
   "source": [
    "# .049 data\n",
    "# part_df = pd.read_csv('data/0.049_part_data.csv')\n",
    "# stock_df = pd.read_csv('data/0.049_stock_data.csv')\n",
    "\n",
    "# # .065 data\n",
    "part_df = pd.read_csv('data/0.065_part_data.csv')\n",
    "stock_df = pd.read_csv('data/0.065_stock_data.csv')\n",
    "\n",
    "part_list = part_df[\"Length\"].to_list()\n",
    "stock_list = stock_df[\"Length\"].to_list()\n",
    "\n",
    "# Debug part and stock list\n",
    "# part_list = [1, 2, 3, 4, 5, 10, 15]\n",
    "# stock_list = [10, 30, 35]"
   ]
  },
  {
   "cell_type": "code",
   "execution_count": 198,
   "metadata": {},
   "outputs": [],
   "source": [
    "# Could also use unique part/stock number as index, dict contains index and length\n",
    "part_dict = {i:length for i, length in enumerate(part_list)}\n",
    "stock_dict = {i:length for i, length in enumerate(stock_list)}"
   ]
  },
  {
   "cell_type": "code",
   "execution_count": 199,
   "metadata": {},
   "outputs": [
    {
     "data": {
      "text/plain": [
       "{0: 13.27,\n",
       " 1: 13.27,\n",
       " 2: 30.5,\n",
       " 3: 30.5,\n",
       " 4: 7.41,\n",
       " 5: 7.41,\n",
       " 6: 8.25,\n",
       " 7: 8.25,\n",
       " 8: 13.92,\n",
       " 9: 13.92,\n",
       " 10: 30.25,\n",
       " 11: 30.25,\n",
       " 12: 18.15,\n",
       " 13: 18.15,\n",
       " 14: 15.3,\n",
       " 15: 15.3,\n",
       " 16: 29.77,\n",
       " 17: 29.77,\n",
       " 18: 13.5}"
      ]
     },
     "execution_count": 199,
     "metadata": {},
     "output_type": "execute_result"
    }
   ],
   "source": [
    "part_dict"
   ]
  },
  {
   "cell_type": "code",
   "execution_count": 200,
   "metadata": {},
   "outputs": [
    {
     "data": {
      "text/plain": [
       "{0: 66, 1: 66, 2: 66, 3: 66, 4: 66, 5: 66, 6: 66, 7: 54}"
      ]
     },
     "execution_count": 200,
     "metadata": {},
     "output_type": "execute_result"
    }
   ],
   "source": [
    "stock_dict"
   ]
  },
  {
   "cell_type": "code",
   "execution_count": 201,
   "metadata": {},
   "outputs": [],
   "source": [
    "def optimize_tube_cut(part_dict:dict, stock_dict:dict) -> tuple[pulp.LpProblem, dict, dict]:\n",
    "    '''\n",
    "    Optimizes part and stock allocation for tube cutting. \n",
    "    '''\n",
    "    prob = pulp.LpProblem(\"Tube_Cut\", pulp.LpMinimize)\n",
    "    \n",
    "    # Variables\n",
    "    part_vars = pulp.LpVariable.dicts(\"Part_Stock\", (part_dict.keys(), stock_dict.keys()), 0, 1, cat= pulp.LpInteger)\n",
    "    stock_vars = pulp.LpVariable.dicts(\"Stock\", stock_dict.keys(), 0, 1, cat= pulp.LpInteger)\n",
    "    \n",
    "    # Objective\n",
    "    prob += (pulp.lpSum([stock_dict[j] * stock_vars[j] - \n",
    "                        pulp.lpSum([part_dict[i] * part_vars[i][j] for i in part_dict.keys()])\n",
    "                        for j in stock_dict.keys()]), \n",
    "                        \"Excess Stock\")\n",
    "    # Subject to\n",
    "    for j in stock_dict.keys():\n",
    "        prob += (pulp.lpSum([part_dict[i] * part_vars[i][j] for i in part_dict.keys()]) - stock_dict[j] * stock_vars[j] <= 0, \n",
    "                (\"Stock Capacity \" + str(j)))\n",
    "    for i in part_dict.keys():\n",
    "        prob += (pulp.lpSum([part_vars[i][j] for j in stock_dict.keys()]) - 1 == 0, \n",
    "                (\"Part Cut \" + str(i)))\n",
    "    prob.solve()\n",
    "    \n",
    "    return prob, part_vars, stock_vars"
   ]
  },
  {
   "cell_type": "code",
   "execution_count": 202,
   "metadata": {},
   "outputs": [
    {
     "name": "stdout",
     "output_type": "stream",
     "text": [
      "Status: Optimal\n"
     ]
    }
   ],
   "source": [
    "prob_result, part_vars_results, stock_vars_results = optimize_tube_cut(part_dict, stock_dict)\n",
    "print(\"Status:\", pulp.LpStatus[prob_result.status])"
   ]
  },
  {
   "cell_type": "code",
   "execution_count": 203,
   "metadata": {},
   "outputs": [
    {
     "name": "stdout",
     "output_type": "stream",
     "text": [
      "Stock_0: 1.0\n",
      "Part_Stock_4_0: 1.0\n",
      "Part_Stock_5_0: 1.0\n",
      "Part_Stock_11_0: 1.0\n",
      "Part_Stock_18_0: 1.0\n",
      "Stock_1: 1.0\n",
      "Part_Stock_7_1: 1.0\n",
      "Part_Stock_15_1: 1.0\n",
      "Part_Stock_17_1: 1.0\n",
      "Stock_2: 1.0\n",
      "Part_Stock_1_2: 1.0\n",
      "Part_Stock_3_2: 1.0\n",
      "Part_Stock_13_2: 1.0\n",
      "Stock_3: 1.0\n",
      "Part_Stock_2_3: 1.0\n",
      "Part_Stock_10_3: 1.0\n",
      "Stock_6: 1.0\n",
      "Part_Stock_8_6: 1.0\n",
      "Part_Stock_14_6: 1.0\n",
      "Part_Stock_16_6: 1.0\n",
      "Stock_7: 1.0\n",
      "Part_Stock_0_7: 1.0\n",
      "Part_Stock_6_7: 1.0\n",
      "Part_Stock_9_7: 1.0\n",
      "Part_Stock_12_7: 1.0\n",
      "Excess Material =  36.860000000000035\n"
     ]
    }
   ],
   "source": [
    "for j in stock_dict.keys():\n",
    "    if stock_vars_results[j].varValue != 0:\n",
    "        print(str(stock_vars_results[j]) + \": \" + str(stock_vars_results[j].varValue))\n",
    "    for i in part_dict.keys():\n",
    "        if part_vars_results[i][j].varValue != 0:\n",
    "            print(str(part_vars_results[i][j]) + \": \" + str(part_vars_results[i][j].varValue))\n",
    "\n",
    "print(\"Excess Material = \", pulp.value(prob_result.objective))"
   ]
  },
  {
   "cell_type": "code",
   "execution_count": 204,
   "metadata": {},
   "outputs": [
    {
     "name": "stdout",
     "output_type": "stream",
     "text": [
      "Stock 0: 66\n",
      "Part 4: 7.41\n",
      "Part 5: 7.41\n",
      "Part 11: 30.25\n",
      "Part 18: 13.5\n",
      "Stock 1: 66\n",
      "Part 7: 8.25\n",
      "Part 15: 15.3\n",
      "Part 17: 29.77\n",
      "Stock 2: 66\n",
      "Part 1: 13.27\n",
      "Part 3: 30.5\n",
      "Part 13: 18.15\n",
      "Stock 3: 66\n",
      "Part 2: 30.5\n",
      "Part 10: 30.25\n",
      "Stock 6: 66\n",
      "Part 8: 13.92\n",
      "Part 14: 15.3\n",
      "Part 16: 29.77\n",
      "Stock 7: 54\n",
      "Part 0: 13.27\n",
      "Part 6: 8.25\n",
      "Part 9: 13.92\n",
      "Part 12: 18.15\n"
     ]
    }
   ],
   "source": [
    "for j in stock_dict.keys():\n",
    "    if stock_vars_results[j].varValue != 0:\n",
    "        print(\"Stock \" + str(j) + \": \" + str(stock_dict[j]))\n",
    "    for i in part_dict.keys():\n",
    "        if part_vars_results[i][j].varValue != 0:\n",
    "            print(\"Part \" + str(i) + \": \" + str(part_dict[i]))"
   ]
  },
  {
   "cell_type": "code",
   "execution_count": 205,
   "metadata": {},
   "outputs": [
    {
     "data": {
      "text/plain": [
       "{0: [4, 5, 11, 18],\n",
       " 1: [7, 15, 17],\n",
       " 2: [1, 3, 13],\n",
       " 3: [2, 10],\n",
       " 6: [8, 14, 16],\n",
       " 7: [0, 6, 9, 12]}"
      ]
     },
     "execution_count": 205,
     "metadata": {},
     "output_type": "execute_result"
    }
   ],
   "source": [
    "stock_part_allocation = {}\n",
    "\n",
    "for j in stock_dict.keys():\n",
    "    if stock_vars_results[j].varValue != 0:\n",
    "        stock_part_allocation[j] = []\n",
    "    for i in part_dict.keys():\n",
    "        if part_vars_results[i][j].varValue != 0:\n",
    "            stock_part_allocation[j].append(i)\n",
    "\n",
    "stock_part_allocation"
   ]
  },
  {
   "cell_type": "code",
   "execution_count": 210,
   "metadata": {},
   "outputs": [
    {
     "name": "stdout",
     "output_type": "stream",
     "text": [
      "7.430000000000007\n",
      "12.680000000000003\n",
      "4.080000000000005\n",
      "5.25\n",
      "7.010000000000002\n",
      "0.4100000000000037\n",
      "36.86000000000002\n"
     ]
    }
   ],
   "source": [
    "# Double checking results by calculating excess material per piece of stock and overall excess\n",
    "total_excess = 0\n",
    "for j, ilist in stock_part_allocation.items():\n",
    "    stock_excess = stock_dict[j]\n",
    "    for i in ilist:\n",
    "        stock_excess = stock_excess - part_dict[i]\n",
    "    print(stock_excess)\n",
    "    total_excess = total_excess + stock_excess\n",
    "print(total_excess)"
   ]
  }
 ],
 "metadata": {
  "interpreter": {
   "hash": "3e84f05ac0c3f2fe9d6db1d732ba4132d39658c607badfe594e5c68c5b057da7"
  },
  "kernelspec": {
   "display_name": "Python 3.9.6 64-bit ('.venv': venv)",
   "language": "python",
   "name": "python3"
  },
  "language_info": {
   "codemirror_mode": {
    "name": "ipython",
    "version": 3
   },
   "file_extension": ".py",
   "mimetype": "text/x-python",
   "name": "python",
   "nbconvert_exporter": "python",
   "pygments_lexer": "ipython3",
   "version": "3.9.6"
  },
  "orig_nbformat": 4
 },
 "nbformat": 4,
 "nbformat_minor": 2
}
