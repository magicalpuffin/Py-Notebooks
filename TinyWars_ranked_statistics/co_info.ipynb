{
 "cells": [
  {
   "cell_type": "code",
   "execution_count": null,
   "metadata": {},
   "outputs": [],
   "source": [
    "import pandas as pd\n",
    "import plotly.graph_objects as go\n",
    "from utils import *\n",
    "\n",
    "co_df = pd.read_csv(\"data/co_data.csv\")\n",
    "map_df = pd.read_csv(\"data/map_data.csv\")\n",
    "user_df = pd.read_csv(\"data/user_data.csv\", index_col= 'userName')\n",
    "replay_df = pd.read_csv(\"data/replay_data.csv\", index_col= 'replayId')\n",
    "pick_df = pd.read_csv(\"data/pick_data.csv\", index_col= 'replayId')\n",
    "ban_df = pd.read_csv(\"data/ban_data.csv\", index_col= 'replayId')"
   ]
  },
  {
   "cell_type": "code",
   "execution_count": null,
   "metadata": {},
   "outputs": [],
   "source": [
    "# Filter high ranked players, >= 1400 represents 25%, top quartile\n",
    "highranked_users = user_df[(user_df['stdScore'] >= 1400) | (user_df['fogScore'] >= 1400)]\n",
    "\n",
    "# Replays played by high ranked players, exclude time out and draws\n",
    "highranked_replays = replay_df.loc[pick_df[pick_df['userName'].isin(highranked_users.index)].index.unique()]\n",
    "highranked_replays = highranked_replays[(highranked_replays['isBoot'] != True) & \n",
    "                                        (highranked_replays['winnerPlayerIndex'] != 0)]"
   ]
  },
  {
   "cell_type": "code",
   "execution_count": null,
   "metadata": {},
   "outputs": [],
   "source": [
    "# CO ban and pick rates\n",
    "\n",
    "CO_NAME = 'Gage'\n",
    "\n",
    "pickrate = get_co_pick_rate(CO_NAME, pick_df, ban_df, highranked_replays.index)\n",
    "banrate = get_co_ban_rate(CO_NAME, ban_df, highranked_replays.index)\n"
   ]
  },
  {
   "cell_type": "code",
   "execution_count": null,
   "metadata": {},
   "outputs": [],
   "source": [
    "co_matchup_total = get_co_matchup_total(CO_NAME, pick_df, highranked_replays.index)\n",
    "co_matchup_loss = get_co_matchup_loss(CO_NAME, pick_df, highranked_replays.index, highranked_replays)\n",
    "co_matchup_win = get_co_matchup_win(CO_NAME, pick_df, highranked_replays.index, highranked_replays)\n",
    "co_matchup_win_rate = get_co_matchup_win_rate(CO_NAME, pick_df, highranked_replays.index, highranked_replays)"
   ]
  }
 ],
 "metadata": {
  "kernelspec": {
   "display_name": ".venv",
   "language": "python",
   "name": "python3"
  },
  "language_info": {
   "name": "python",
   "version": "3.9.6"
  },
  "orig_nbformat": 4,
  "vscode": {
   "interpreter": {
    "hash": "1157406105643a7922daf3af34a861e74c1be76f848d051cd81389081baf084d"
   }
  }
 },
 "nbformat": 4,
 "nbformat_minor": 2
}
