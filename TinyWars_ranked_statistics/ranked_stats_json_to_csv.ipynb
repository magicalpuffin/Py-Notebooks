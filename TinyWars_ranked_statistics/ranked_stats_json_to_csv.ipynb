{
 "cells": [
  {
   "cell_type": "code",
   "execution_count": 1,
   "metadata": {},
   "outputs": [],
   "source": [
    "import pandas as pd\n",
    "import json\n",
    "\n",
    "RANKED_STATS_JSON = \"data\\Classic_Ranked_Statistics 2023_03_13.json\"\n",
    "\n",
    "with open(RANKED_STATS_JSON, 'r', encoding= \"utf8\") as f:\n",
    "    ranked_stats_json = json.load(f)\n"
   ]
  },
  {
   "cell_type": "code",
   "execution_count": 3,
   "metadata": {},
   "outputs": [],
   "source": [
    "co_raw_df = pd.DataFrame.from_dict(ranked_stats_json['coInfoArray'], orient= 'columns')\n",
    "map_raw_df = pd.DataFrame.from_dict(ranked_stats_json['mapInfoArray'], orient= 'columns')\n",
    "user_raw_df = pd.DataFrame.from_dict(ranked_stats_json['userInfoArray'], orient= 'columns')\n",
    "replay_raw_df = pd.DataFrame.from_dict(ranked_stats_json['replayInfoArray'], orient= 'columns')\n",
    "\n",
    "# Splits the nested dict json structure into separate picks and bans tables\n",
    "ban_raw_df = pd.json_normalize(\n",
    "    data= ranked_stats_json['replayInfoArray'], \n",
    "    record_path= ['playerInfoArray', 'bannedCoCategoryIdArray'], \n",
    "    meta= ['replayId', ['playerInfoArray', 'userId']])\n",
    "\n",
    "pick_raw_df = pd.json_normalize(\n",
    "    data= ranked_stats_json['replayInfoArray'], \n",
    "    record_path= 'playerInfoArray', \n",
    "    meta= 'replayId')\n"
   ]
  },
  {
   "cell_type": "code",
   "execution_count": 43,
   "metadata": {},
   "outputs": [],
   "source": [
    "co_df = co_raw_df.rename(columns= {'name': 'coName'})"
   ]
  },
  {
   "cell_type": "code",
   "execution_count": 44,
   "metadata": {},
   "outputs": [],
   "source": [
    "# Only using the english name for maps\n",
    "map_df = map_raw_df.rename(columns= {'englishName': 'mapName'})"
   ]
  },
  {
   "cell_type": "code",
   "execution_count": 45,
   "metadata": {},
   "outputs": [],
   "source": [
    "user_df = user_raw_df.rename(columns= {'nickname': 'userName'})"
   ]
  },
  {
   "cell_type": "code",
   "execution_count": 46,
   "metadata": {},
   "outputs": [],
   "source": [
    "# Merges with CO and user data on their respective ID\n",
    "pick_df = pick_raw_df\n",
    "pick_df = pick_df.merge(co_df, how='left', left_on= 'pickedCoCategoryId', right_on= 'categoryId')\n",
    "pick_df = pick_df.merge(user_df[['userId', 'userName']], how= 'left', on= 'userId')\n",
    "pick_df = pick_df.drop(['bannedCoCategoryIdArray', 'categoryId', 'pickedCoCategoryId', 'userId'], axis= 'columns')"
   ]
  },
  {
   "cell_type": "code",
   "execution_count": 47,
   "metadata": {},
   "outputs": [],
   "source": [
    "# Merges with CO and user data on their respective ID\n",
    "ban_df = ban_raw_df\n",
    "ban_df = ban_df.rename(columns= {0: 'categoryId', 'playerInfoArray.userId': 'userId'})\n",
    "ban_df = ban_df.merge(co_df, on= 'categoryId')\n",
    "ban_df = ban_df.merge(user_df[['userId', 'userName']], how= 'left', on= 'userId')\n",
    "ban_df = ban_df.drop(['categoryId', 'userId'], axis= 'columns')"
   ]
  },
  {
   "cell_type": "code",
   "execution_count": 48,
   "metadata": {},
   "outputs": [],
   "source": [
    "# Merges with map and user data on their respective ID\n",
    "replay_df = replay_raw_df\n",
    "replay_df = replay_df.merge(map_df[['mapId', 'mapName']], on= 'mapId')\n",
    "replay_df = replay_df.merge(pick_df, how= 'left', left_on= ['winnerPlayerIndex', 'replayId'], right_on= ['playerIndex', 'replayId'])\n",
    "replay_df = replay_df.rename(columns= {'coName': 'winnerCoName', 'userName': 'winnerUserName'})\n",
    "replay_df = replay_df.drop(['configVersion', 'playerInfoArray', 'playerIndex'], axis= 'columns')"
   ]
  },
  {
   "cell_type": "code",
   "execution_count": 49,
   "metadata": {},
   "outputs": [],
   "source": [
    "# Saves cleaned dataframe to csv files\n",
    "# co_df.to_csv(\"data/co_data.csv\", index= False)\n",
    "# map_df.to_csv(\"data/map_data.csv\", index= False)\n",
    "# user_df.to_csv(\"data/user_data.csv\", index= False)\n",
    "# replay_df.to_csv(\"data/replay_data.csv\", index= False)\n",
    "# pick_df.to_csv(\"data/pick_data.csv\", index= False)\n",
    "# ban_df.to_csv(\"data/ban_data.csv\", index= False)"
   ]
  }
 ],
 "metadata": {
  "kernelspec": {
   "display_name": ".venv",
   "language": "python",
   "name": "python3"
  },
  "language_info": {
   "codemirror_mode": {
    "name": "ipython",
    "version": 3
   },
   "file_extension": ".py",
   "mimetype": "text/x-python",
   "name": "python",
   "nbconvert_exporter": "python",
   "pygments_lexer": "ipython3",
   "version": "3.9.6"
  },
  "orig_nbformat": 4,
  "vscode": {
   "interpreter": {
    "hash": "1157406105643a7922daf3af34a861e74c1be76f848d051cd81389081baf084d"
   }
  }
 },
 "nbformat": 4,
 "nbformat_minor": 2
}
