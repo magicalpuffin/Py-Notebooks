{
 "cells": [
  {
   "cell_type": "code",
   "execution_count": 84,
   "metadata": {},
   "outputs": [],
   "source": [
    "import pandas as pd\n",
    "import plotly.graph_objects as go\n",
    "\n",
    "co_df = pd.read_csv(\"data/co_data.csv\")\n",
    "map_df = pd.read_csv(\"data/map_data.csv\")\n",
    "user_df = pd.read_csv(\"data/user_data.csv\", index_col= 'userName')\n",
    "replay_df = pd.read_csv(\"data/replay_data.csv\", index_col= 'replayId')\n",
    "pick_df = pd.read_csv(\"data/pick_data.csv\", index_col= 'replayId')\n",
    "ban_df = pd.read_csv(\"data/ban_data.csv\", index_col= 'replayId')"
   ]
  },
  {
   "cell_type": "code",
   "execution_count": 21,
   "metadata": {},
   "outputs": [
    {
     "data": {
      "text/plain": [
       "coName\n",
       "Isabella        0.698709\n",
       "Caulder         0.669536\n",
       "Zhaotiantong    0.614060\n",
       "Grat            0.576758\n",
       "Tabitha         0.539455\n",
       "Brenner         0.530368\n",
       "Lee             0.523195\n",
       "Hawk            0.464849\n",
       "Mira            0.399330\n",
       "Forsythe        0.356289\n",
       "Tinker          0.308943\n",
       "Will            0.237685\n",
       "Penny           0.225729\n",
       "Lin             0.193209\n",
       "Waylon          0.075084\n",
       "Tasha           0.064084\n",
       "Gage            0.063606\n",
       "Greyfield       0.036346\n",
       "Name: replayId, dtype: float64"
      ]
     },
     "execution_count": 21,
     "metadata": {},
     "output_type": "execute_result"
    }
   ],
   "source": [
    "co_banned = ban_df.groupby('coName').nunique()['replayId'].sort_values(ascending= False)\n",
    "replay_num = replay_df['replayId'].nunique()\n",
    "\n",
    "co_banned/replay_num"
   ]
  },
  {
   "cell_type": "code",
   "execution_count": null,
   "metadata": {},
   "outputs": [],
   "source": [
    "# Why can't gage win vs penny?\n",
    "# This is an abomination\n",
    "pick_df.loc[pick_df.loc[picked_matches, :][pick_df.loc[picked_matches, :]['coName'] == 'Penny'].index, :]"
   ]
  }
 ],
 "metadata": {
  "kernelspec": {
   "display_name": ".venv",
   "language": "python",
   "name": "python3"
  },
  "language_info": {
   "codemirror_mode": {
    "name": "ipython",
    "version": 3
   },
   "file_extension": ".py",
   "mimetype": "text/x-python",
   "name": "python",
   "nbconvert_exporter": "python",
   "pygments_lexer": "ipython3",
   "version": "3.9.6"
  },
  "orig_nbformat": 4,
  "vscode": {
   "interpreter": {
    "hash": "1157406105643a7922daf3af34a861e74c1be76f848d051cd81389081baf084d"
   }
  }
 },
 "nbformat": 4,
 "nbformat_minor": 2
}
