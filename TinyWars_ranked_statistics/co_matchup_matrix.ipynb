{
 "cells": [
  {
   "attachments": {},
   "cell_type": "markdown",
   "metadata": {},
   "source": [
    "# CO Matchup Matrix\n",
    "Matrix of CO win rates for each possible matchup. Each value represents the rate which the CO on the row wins against the CO on the column. Only includes matches with a player above 1400 std or fog score. Time outs and draws are excluded. COs are sorted by pick frequency, as a result, most matchups in the bottom right corner are missing data. "
   ]
  },
  {
   "cell_type": "code",
   "execution_count": 7,
   "metadata": {},
   "outputs": [],
   "source": [
    "import pandas as pd\n",
    "import plotly.graph_objects as go\n",
    "from utils import *\n",
    "\n",
    "co_df = pd.read_csv(\"data/co_data.csv\")\n",
    "map_df = pd.read_csv(\"data/map_data.csv\")\n",
    "user_df = pd.read_csv(\"data/user_data.csv\", index_col= 'userName')\n",
    "replay_df = pd.read_csv(\"data/replay_data.csv\", index_col= 'replayId')\n",
    "pick_df = pd.read_csv(\"data/pick_data.csv\", index_col= 'replayId')\n",
    "ban_df = pd.read_csv(\"data/ban_data.csv\", index_col= 'replayId')"
   ]
  },
  {
   "cell_type": "code",
   "execution_count": 8,
   "metadata": {},
   "outputs": [],
   "source": [
    "# Filter high ranked players, >= 1400 represents 25%, top quartile\n",
    "highranked_users = user_df[(user_df['stdScore'] >= 1400) | (user_df['fogScore'] >= 1400)]\n",
    "\n",
    "# Replays played by high ranked players, exclude time out and draws\n",
    "highranked_replays = replay_df.loc[pick_df[pick_df['userName'].isin(highranked_users.index)].index.unique()]\n",
    "highranked_replays = highranked_replays[(highranked_replays['isBoot'] != True) & \n",
    "                                        (highranked_replays['winnerPlayerIndex'] != 0)]"
   ]
  },
  {
   "cell_type": "code",
   "execution_count": 9,
   "metadata": {},
   "outputs": [],
   "source": [
    "# Matchup table for each CO\n",
    "co_list = co_df['coName'].values\n",
    "matchup_table_dict = {}\n",
    "\n",
    "for co_name in co_list:\n",
    "    matchup_table_dict[co_name] = get_co_matchup_table(co_name, pick_df, highranked_replays.index, highranked_replays)"
   ]
  },
  {
   "cell_type": "code",
   "execution_count": 10,
   "metadata": {},
   "outputs": [],
   "source": [
    "# Determine CO frequency, used for CO display order\n",
    "co_pick_frequency = pick_df.loc[highranked_replays.index, :]['coName'].value_counts()\n",
    "co_pick_frequency = co_pick_frequency.drop('(No CO)')"
   ]
  },
  {
   "cell_type": "code",
   "execution_count": 11,
   "metadata": {},
   "outputs": [],
   "source": [
    "all_co_matchup_table = pd.concat(matchup_table_dict.values(), keys= matchup_table_dict.keys())\n",
    "\n",
    "# Removing (No CO)\n",
    "all_co_matchup_table = all_co_matchup_table.drop(index= '(No CO)', level= 0)\n",
    "all_co_matchup_table = all_co_matchup_table.drop(index= '(No CO)', level= 1)\n",
    "\n",
    "# Sorting CO alphabetically\n",
    "# all_co_matchup_table = all_co_matchup_table.sort_index()\n",
    "\n",
    "# Sorting CO by pick frequency\n",
    "all_co_matchup_table = all_co_matchup_table.reindex(co_pick_frequency.index, level= 0)\n",
    "all_co_matchup_table = all_co_matchup_table.reindex(co_pick_frequency.index, level= 1)"
   ]
  },
  {
   "cell_type": "code",
   "execution_count": 12,
   "metadata": {},
   "outputs": [],
   "source": [
    "co_matchup_matrix = all_co_matchup_table.unstack(1)"
   ]
  },
  {
   "cell_type": "code",
   "execution_count": 22,
   "metadata": {},
   "outputs": [
    {
     "data": {
      "application/vnd.plotly.v1+json": {
       "config": {
        "plotlyServerURL": "https://plot.ly"
       },
       "data": [
        {
         "colorscale": [
          [
           0,
           "rgb(211, 242, 163)"
          ],
          [
           0.16666666666666666,
           "rgb(151, 225, 150)"
          ],
          [
           0.3333333333333333,
           "rgb(108, 192, 139)"
          ],
          [
           0.5,
           "rgb(76, 155, 130)"
          ],
          [
           0.6666666666666666,
           "rgb(33, 122, 121)"
          ],
          [
           0.8333333333333334,
           "rgb(16, 89, 101)"
          ],
          [
           1,
           "rgb(7, 64, 80)"
          ]
         ],
         "customdata": [
          [
           53,
           18,
           27,
           27,
           26,
           11,
           18,
           18,
           16,
           10,
           7,
           9,
           6,
           10,
           3,
           8,
           3,
           4
          ],
          [
           18,
           44,
           24,
           9,
           12,
           12,
           18,
           16,
           16,
           7,
           5,
           3,
           9,
           4,
           3,
           1,
           5,
           2
          ],
          [
           27,
           24,
           16,
           18,
           21,
           26,
           20,
           10,
           13,
           4,
           6,
           9,
           9,
           4,
           2,
           8,
           7,
           6
          ],
          [
           27,
           9,
           18,
           14,
           19,
           8,
           20,
           8,
           6,
           11,
           5,
           6,
           6,
           4,
           5,
           9,
           4,
           4
          ],
          [
           26,
           12,
           21,
           19,
           11,
           14,
           16,
           4,
           12,
           10,
           5,
           9,
           8,
           8,
           3,
           2,
           null,
           4
          ],
          [
           11,
           12,
           26,
           8,
           14,
           12,
           15,
           12,
           9,
           5,
           4,
           8,
           8,
           9,
           6,
           2,
           6,
           1
          ],
          [
           18,
           18,
           20,
           20,
           16,
           15,
           13,
           7,
           6,
           5,
           8,
           4,
           5,
           3,
           3,
           1,
           1,
           3
          ],
          [
           18,
           16,
           10,
           8,
           4,
           12,
           7,
           25,
           10,
           8,
           9,
           1,
           3,
           4,
           2,
           3,
           null,
           3
          ],
          [
           16,
           16,
           13,
           6,
           12,
           9,
           6,
           10,
           14,
           5,
           7,
           7,
           6,
           4,
           3,
           1,
           1,
           2
          ],
          [
           10,
           7,
           4,
           11,
           10,
           5,
           5,
           8,
           5,
           5,
           3,
           5,
           2,
           3,
           6,
           1,
           1,
           null
          ],
          [
           7,
           5,
           6,
           5,
           5,
           4,
           8,
           9,
           7,
           3,
           6,
           3,
           2,
           5,
           3,
           2,
           2,
           1
          ],
          [
           9,
           3,
           9,
           6,
           9,
           8,
           4,
           1,
           7,
           5,
           3,
           2,
           1,
           1,
           1,
           null,
           5,
           3
          ],
          [
           6,
           9,
           9,
           6,
           8,
           8,
           5,
           3,
           6,
           2,
           2,
           1,
           2,
           1,
           1,
           1,
           1,
           1
          ],
          [
           10,
           4,
           4,
           4,
           8,
           9,
           3,
           4,
           4,
           3,
           5,
           1,
           1,
           2,
           null,
           4,
           2,
           2
          ],
          [
           3,
           3,
           2,
           5,
           3,
           6,
           3,
           2,
           3,
           6,
           3,
           1,
           1,
           null,
           3,
           null,
           3,
           1
          ],
          [
           8,
           1,
           8,
           9,
           2,
           2,
           1,
           3,
           1,
           1,
           2,
           null,
           1,
           4,
           null,
           1,
           null,
           null
          ],
          [
           3,
           5,
           7,
           4,
           null,
           6,
           1,
           null,
           1,
           1,
           2,
           5,
           1,
           2,
           3,
           null,
           1,
           null
          ],
          [
           4,
           2,
           6,
           4,
           4,
           1,
           3,
           3,
           2,
           null,
           1,
           3,
           1,
           2,
           1,
           null,
           null,
           1
          ]
         ],
         "hovertemplate": "matchupWinRate: %{z:.2f}<br>matchupTotal: %{customdata}<extra></extra>",
         "texttemplate": "%{z:.2f}",
         "type": "heatmap",
         "x": [
          "Tabitha",
          "Brenner",
          "Lin",
          "Penny",
          "Will",
          "Hawk",
          "Forsythe",
          "Isabella",
          "Caulder",
          "Grat",
          "Zhaotiantong",
          "Gage",
          "Mira",
          "Waylon",
          "Lee",
          "Tasha",
          "Greyfield",
          "Tinker"
         ],
         "y": [
          "Tabitha",
          "Brenner",
          "Lin",
          "Penny",
          "Will",
          "Hawk",
          "Forsythe",
          "Isabella",
          "Caulder",
          "Grat",
          "Zhaotiantong",
          "Gage",
          "Mira",
          "Waylon",
          "Lee",
          "Tasha",
          "Greyfield",
          "Tinker"
         ],
         "z": [
          [
           0.5,
           0.4444444444444444,
           0.5925925925925926,
           0.4444444444444444,
           0.46153846153846156,
           0.6363636363636364,
           0.7222222222222222,
           0.5,
           0.5625,
           0.5,
           0.2857142857142857,
           0.7777777777777778,
           0.8333333333333334,
           0.3,
           0,
           0.75,
           0.3333333333333333,
           0.5
          ],
          [
           0.5555555555555556,
           0.5,
           0.625,
           0.4444444444444444,
           0.4166666666666667,
           0.75,
           0.5,
           0.4375,
           0.375,
           0.42857142857142855,
           0.4,
           0.6666666666666666,
           0.5555555555555556,
           0.5,
           0.3333333333333333,
           1,
           0.4,
           0.5
          ],
          [
           0.4074074074074074,
           0.375,
           0.5,
           0.5,
           0.6190476190476191,
           0.4230769230769231,
           0.4,
           0.3,
           0.38461538461538464,
           1,
           0.16666666666666666,
           0.8888888888888888,
           0.2222222222222222,
           1,
           0.5,
           0.625,
           0.5714285714285714,
           0.8333333333333334
          ],
          [
           0.5555555555555556,
           0.5555555555555556,
           0.5,
           0.5,
           0.3684210526315789,
           0.375,
           0.4,
           0.75,
           0.5,
           0.8181818181818182,
           0.4,
           1,
           0.6666666666666666,
           0.75,
           0.4,
           0.6666666666666666,
           0.25,
           0.75
          ],
          [
           0.5384615384615384,
           0.5833333333333334,
           0.38095238095238093,
           0.631578947368421,
           0.5,
           0.2857142857142857,
           0.5625,
           0.25,
           0.6666666666666666,
           0.7,
           0,
           0.6666666666666666,
           0.625,
           0.5,
           0.6666666666666666,
           1,
           null,
           0.75
          ],
          [
           0.36363636363636365,
           0.25,
           0.5769230769230769,
           0.625,
           0.7142857142857143,
           0.5,
           0.4666666666666667,
           0.5833333333333334,
           0.4444444444444444,
           0.8,
           0.75,
           0.875,
           0.75,
           0.5555555555555556,
           0.6666666666666666,
           1,
           0.5,
           0
          ],
          [
           0.2777777777777778,
           0.5,
           0.6,
           0.6,
           0.4375,
           0.5333333333333333,
           0.5,
           0.42857142857142855,
           0.5,
           0.6,
           0.125,
           0.75,
           0.4,
           0,
           0.6666666666666666,
           0,
           0,
           0.6666666666666666
          ],
          [
           0.5,
           0.5625,
           0.7,
           0.25,
           0.75,
           0.4166666666666667,
           0.5714285714285714,
           0.5,
           0.6,
           0.75,
           0.8888888888888888,
           1,
           0,
           0.5,
           0.5,
           0.6666666666666666,
           null,
           0.6666666666666666
          ],
          [
           0.4375,
           0.625,
           0.6153846153846154,
           0.5,
           0.3333333333333333,
           0.5555555555555556,
           0.5,
           0.4,
           0.5,
           0.4,
           0.2857142857142857,
           0.7142857142857143,
           0.8333333333333334,
           0.5,
           0.3333333333333333,
           1,
           1,
           0.5
          ],
          [
           0.5,
           0.5714285714285714,
           0,
           0.18181818181818182,
           0.3,
           0.2,
           0.4,
           0.25,
           0.6,
           0.5,
           0.3333333333333333,
           0.6,
           0,
           0,
           0.5,
           1,
           0,
           null
          ],
          [
           0.7142857142857143,
           0.6,
           0.8333333333333334,
           0.6,
           1,
           0.25,
           0.875,
           0.1111111111111111,
           0.7142857142857143,
           0.6666666666666666,
           0.5,
           1,
           0.5,
           1,
           1,
           1,
           1,
           1
          ],
          [
           0.2222222222222222,
           0.3333333333333333,
           0.1111111111111111,
           0,
           0.3333333333333333,
           0.125,
           0.25,
           0,
           0.2857142857142857,
           0.4,
           0,
           0.5,
           0,
           1,
           1,
           null,
           0.6,
           0
          ],
          [
           0.16666666666666666,
           0.4444444444444444,
           0.7777777777777778,
           0.3333333333333333,
           0.375,
           0.25,
           0.6,
           1,
           0.16666666666666666,
           1,
           0.5,
           1,
           0.5,
           1,
           0,
           0,
           0,
           0
          ],
          [
           0.7,
           0.5,
           0,
           0.25,
           0.5,
           0.4444444444444444,
           1,
           0.5,
           0.5,
           1,
           0,
           0,
           0,
           0.5,
           null,
           0.75,
           0.5,
           0.5
          ],
          [
           1,
           0.6666666666666666,
           0.5,
           0.6,
           0.3333333333333333,
           0.3333333333333333,
           0.3333333333333333,
           0.5,
           0.6666666666666666,
           0.5,
           0,
           0,
           1,
           null,
           0.5,
           null,
           0.3333333333333333,
           1
          ],
          [
           0.25,
           0,
           0.375,
           0.3333333333333333,
           0,
           0,
           1,
           0.3333333333333333,
           0,
           0,
           0,
           null,
           1,
           0.25,
           null,
           0.5,
           null,
           null
          ],
          [
           0.6666666666666666,
           0.6,
           0.42857142857142855,
           0.75,
           null,
           0.5,
           1,
           null,
           0,
           1,
           0,
           0.4,
           1,
           0.5,
           0.6666666666666666,
           null,
           0.5,
           null
          ],
          [
           0.5,
           0.5,
           0.16666666666666666,
           0.25,
           0.25,
           1,
           0.3333333333333333,
           0.3333333333333333,
           0.5,
           null,
           0,
           1,
           1,
           0.5,
           0,
           null,
           null,
           0.5
          ]
         ]
        }
       ],
       "layout": {
        "height": 1000,
        "margin": {
         "b": 50,
         "l": 125,
         "r": 50,
         "t": 125
        },
        "template": {
         "data": {
          "bar": [
           {
            "error_x": {
             "color": "#2a3f5f"
            },
            "error_y": {
             "color": "#2a3f5f"
            },
            "marker": {
             "line": {
              "color": "#E5ECF6",
              "width": 0.5
             },
             "pattern": {
              "fillmode": "overlay",
              "size": 10,
              "solidity": 0.2
             }
            },
            "type": "bar"
           }
          ],
          "barpolar": [
           {
            "marker": {
             "line": {
              "color": "#E5ECF6",
              "width": 0.5
             },
             "pattern": {
              "fillmode": "overlay",
              "size": 10,
              "solidity": 0.2
             }
            },
            "type": "barpolar"
           }
          ],
          "carpet": [
           {
            "aaxis": {
             "endlinecolor": "#2a3f5f",
             "gridcolor": "white",
             "linecolor": "white",
             "minorgridcolor": "white",
             "startlinecolor": "#2a3f5f"
            },
            "baxis": {
             "endlinecolor": "#2a3f5f",
             "gridcolor": "white",
             "linecolor": "white",
             "minorgridcolor": "white",
             "startlinecolor": "#2a3f5f"
            },
            "type": "carpet"
           }
          ],
          "choropleth": [
           {
            "colorbar": {
             "outlinewidth": 0,
             "ticks": ""
            },
            "type": "choropleth"
           }
          ],
          "contour": [
           {
            "colorbar": {
             "outlinewidth": 0,
             "ticks": ""
            },
            "colorscale": [
             [
              0,
              "#0d0887"
             ],
             [
              0.1111111111111111,
              "#46039f"
             ],
             [
              0.2222222222222222,
              "#7201a8"
             ],
             [
              0.3333333333333333,
              "#9c179e"
             ],
             [
              0.4444444444444444,
              "#bd3786"
             ],
             [
              0.5555555555555556,
              "#d8576b"
             ],
             [
              0.6666666666666666,
              "#ed7953"
             ],
             [
              0.7777777777777778,
              "#fb9f3a"
             ],
             [
              0.8888888888888888,
              "#fdca26"
             ],
             [
              1,
              "#f0f921"
             ]
            ],
            "type": "contour"
           }
          ],
          "contourcarpet": [
           {
            "colorbar": {
             "outlinewidth": 0,
             "ticks": ""
            },
            "type": "contourcarpet"
           }
          ],
          "heatmap": [
           {
            "colorbar": {
             "outlinewidth": 0,
             "ticks": ""
            },
            "colorscale": [
             [
              0,
              "#0d0887"
             ],
             [
              0.1111111111111111,
              "#46039f"
             ],
             [
              0.2222222222222222,
              "#7201a8"
             ],
             [
              0.3333333333333333,
              "#9c179e"
             ],
             [
              0.4444444444444444,
              "#bd3786"
             ],
             [
              0.5555555555555556,
              "#d8576b"
             ],
             [
              0.6666666666666666,
              "#ed7953"
             ],
             [
              0.7777777777777778,
              "#fb9f3a"
             ],
             [
              0.8888888888888888,
              "#fdca26"
             ],
             [
              1,
              "#f0f921"
             ]
            ],
            "type": "heatmap"
           }
          ],
          "heatmapgl": [
           {
            "colorbar": {
             "outlinewidth": 0,
             "ticks": ""
            },
            "colorscale": [
             [
              0,
              "#0d0887"
             ],
             [
              0.1111111111111111,
              "#46039f"
             ],
             [
              0.2222222222222222,
              "#7201a8"
             ],
             [
              0.3333333333333333,
              "#9c179e"
             ],
             [
              0.4444444444444444,
              "#bd3786"
             ],
             [
              0.5555555555555556,
              "#d8576b"
             ],
             [
              0.6666666666666666,
              "#ed7953"
             ],
             [
              0.7777777777777778,
              "#fb9f3a"
             ],
             [
              0.8888888888888888,
              "#fdca26"
             ],
             [
              1,
              "#f0f921"
             ]
            ],
            "type": "heatmapgl"
           }
          ],
          "histogram": [
           {
            "marker": {
             "pattern": {
              "fillmode": "overlay",
              "size": 10,
              "solidity": 0.2
             }
            },
            "type": "histogram"
           }
          ],
          "histogram2d": [
           {
            "colorbar": {
             "outlinewidth": 0,
             "ticks": ""
            },
            "colorscale": [
             [
              0,
              "#0d0887"
             ],
             [
              0.1111111111111111,
              "#46039f"
             ],
             [
              0.2222222222222222,
              "#7201a8"
             ],
             [
              0.3333333333333333,
              "#9c179e"
             ],
             [
              0.4444444444444444,
              "#bd3786"
             ],
             [
              0.5555555555555556,
              "#d8576b"
             ],
             [
              0.6666666666666666,
              "#ed7953"
             ],
             [
              0.7777777777777778,
              "#fb9f3a"
             ],
             [
              0.8888888888888888,
              "#fdca26"
             ],
             [
              1,
              "#f0f921"
             ]
            ],
            "type": "histogram2d"
           }
          ],
          "histogram2dcontour": [
           {
            "colorbar": {
             "outlinewidth": 0,
             "ticks": ""
            },
            "colorscale": [
             [
              0,
              "#0d0887"
             ],
             [
              0.1111111111111111,
              "#46039f"
             ],
             [
              0.2222222222222222,
              "#7201a8"
             ],
             [
              0.3333333333333333,
              "#9c179e"
             ],
             [
              0.4444444444444444,
              "#bd3786"
             ],
             [
              0.5555555555555556,
              "#d8576b"
             ],
             [
              0.6666666666666666,
              "#ed7953"
             ],
             [
              0.7777777777777778,
              "#fb9f3a"
             ],
             [
              0.8888888888888888,
              "#fdca26"
             ],
             [
              1,
              "#f0f921"
             ]
            ],
            "type": "histogram2dcontour"
           }
          ],
          "mesh3d": [
           {
            "colorbar": {
             "outlinewidth": 0,
             "ticks": ""
            },
            "type": "mesh3d"
           }
          ],
          "parcoords": [
           {
            "line": {
             "colorbar": {
              "outlinewidth": 0,
              "ticks": ""
             }
            },
            "type": "parcoords"
           }
          ],
          "pie": [
           {
            "automargin": true,
            "type": "pie"
           }
          ],
          "scatter": [
           {
            "fillpattern": {
             "fillmode": "overlay",
             "size": 10,
             "solidity": 0.2
            },
            "type": "scatter"
           }
          ],
          "scatter3d": [
           {
            "line": {
             "colorbar": {
              "outlinewidth": 0,
              "ticks": ""
             }
            },
            "marker": {
             "colorbar": {
              "outlinewidth": 0,
              "ticks": ""
             }
            },
            "type": "scatter3d"
           }
          ],
          "scattercarpet": [
           {
            "marker": {
             "colorbar": {
              "outlinewidth": 0,
              "ticks": ""
             }
            },
            "type": "scattercarpet"
           }
          ],
          "scattergeo": [
           {
            "marker": {
             "colorbar": {
              "outlinewidth": 0,
              "ticks": ""
             }
            },
            "type": "scattergeo"
           }
          ],
          "scattergl": [
           {
            "marker": {
             "colorbar": {
              "outlinewidth": 0,
              "ticks": ""
             }
            },
            "type": "scattergl"
           }
          ],
          "scattermapbox": [
           {
            "marker": {
             "colorbar": {
              "outlinewidth": 0,
              "ticks": ""
             }
            },
            "type": "scattermapbox"
           }
          ],
          "scatterpolar": [
           {
            "marker": {
             "colorbar": {
              "outlinewidth": 0,
              "ticks": ""
             }
            },
            "type": "scatterpolar"
           }
          ],
          "scatterpolargl": [
           {
            "marker": {
             "colorbar": {
              "outlinewidth": 0,
              "ticks": ""
             }
            },
            "type": "scatterpolargl"
           }
          ],
          "scatterternary": [
           {
            "marker": {
             "colorbar": {
              "outlinewidth": 0,
              "ticks": ""
             }
            },
            "type": "scatterternary"
           }
          ],
          "surface": [
           {
            "colorbar": {
             "outlinewidth": 0,
             "ticks": ""
            },
            "colorscale": [
             [
              0,
              "#0d0887"
             ],
             [
              0.1111111111111111,
              "#46039f"
             ],
             [
              0.2222222222222222,
              "#7201a8"
             ],
             [
              0.3333333333333333,
              "#9c179e"
             ],
             [
              0.4444444444444444,
              "#bd3786"
             ],
             [
              0.5555555555555556,
              "#d8576b"
             ],
             [
              0.6666666666666666,
              "#ed7953"
             ],
             [
              0.7777777777777778,
              "#fb9f3a"
             ],
             [
              0.8888888888888888,
              "#fdca26"
             ],
             [
              1,
              "#f0f921"
             ]
            ],
            "type": "surface"
           }
          ],
          "table": [
           {
            "cells": {
             "fill": {
              "color": "#EBF0F8"
             },
             "line": {
              "color": "white"
             }
            },
            "header": {
             "fill": {
              "color": "#C8D4E3"
             },
             "line": {
              "color": "white"
             }
            },
            "type": "table"
           }
          ]
         },
         "layout": {
          "annotationdefaults": {
           "arrowcolor": "#2a3f5f",
           "arrowhead": 0,
           "arrowwidth": 1
          },
          "autotypenumbers": "strict",
          "coloraxis": {
           "colorbar": {
            "outlinewidth": 0,
            "ticks": ""
           }
          },
          "colorscale": {
           "diverging": [
            [
             0,
             "#8e0152"
            ],
            [
             0.1,
             "#c51b7d"
            ],
            [
             0.2,
             "#de77ae"
            ],
            [
             0.3,
             "#f1b6da"
            ],
            [
             0.4,
             "#fde0ef"
            ],
            [
             0.5,
             "#f7f7f7"
            ],
            [
             0.6,
             "#e6f5d0"
            ],
            [
             0.7,
             "#b8e186"
            ],
            [
             0.8,
             "#7fbc41"
            ],
            [
             0.9,
             "#4d9221"
            ],
            [
             1,
             "#276419"
            ]
           ],
           "sequential": [
            [
             0,
             "#0d0887"
            ],
            [
             0.1111111111111111,
             "#46039f"
            ],
            [
             0.2222222222222222,
             "#7201a8"
            ],
            [
             0.3333333333333333,
             "#9c179e"
            ],
            [
             0.4444444444444444,
             "#bd3786"
            ],
            [
             0.5555555555555556,
             "#d8576b"
            ],
            [
             0.6666666666666666,
             "#ed7953"
            ],
            [
             0.7777777777777778,
             "#fb9f3a"
            ],
            [
             0.8888888888888888,
             "#fdca26"
            ],
            [
             1,
             "#f0f921"
            ]
           ],
           "sequentialminus": [
            [
             0,
             "#0d0887"
            ],
            [
             0.1111111111111111,
             "#46039f"
            ],
            [
             0.2222222222222222,
             "#7201a8"
            ],
            [
             0.3333333333333333,
             "#9c179e"
            ],
            [
             0.4444444444444444,
             "#bd3786"
            ],
            [
             0.5555555555555556,
             "#d8576b"
            ],
            [
             0.6666666666666666,
             "#ed7953"
            ],
            [
             0.7777777777777778,
             "#fb9f3a"
            ],
            [
             0.8888888888888888,
             "#fdca26"
            ],
            [
             1,
             "#f0f921"
            ]
           ]
          },
          "colorway": [
           "#636efa",
           "#EF553B",
           "#00cc96",
           "#ab63fa",
           "#FFA15A",
           "#19d3f3",
           "#FF6692",
           "#B6E880",
           "#FF97FF",
           "#FECB52"
          ],
          "font": {
           "color": "#2a3f5f"
          },
          "geo": {
           "bgcolor": "white",
           "lakecolor": "white",
           "landcolor": "#E5ECF6",
           "showlakes": true,
           "showland": true,
           "subunitcolor": "white"
          },
          "hoverlabel": {
           "align": "left"
          },
          "hovermode": "closest",
          "mapbox": {
           "style": "light"
          },
          "paper_bgcolor": "white",
          "plot_bgcolor": "#E5ECF6",
          "polar": {
           "angularaxis": {
            "gridcolor": "white",
            "linecolor": "white",
            "ticks": ""
           },
           "bgcolor": "#E5ECF6",
           "radialaxis": {
            "gridcolor": "white",
            "linecolor": "white",
            "ticks": ""
           }
          },
          "scene": {
           "xaxis": {
            "backgroundcolor": "#E5ECF6",
            "gridcolor": "white",
            "gridwidth": 2,
            "linecolor": "white",
            "showbackground": true,
            "ticks": "",
            "zerolinecolor": "white"
           },
           "yaxis": {
            "backgroundcolor": "#E5ECF6",
            "gridcolor": "white",
            "gridwidth": 2,
            "linecolor": "white",
            "showbackground": true,
            "ticks": "",
            "zerolinecolor": "white"
           },
           "zaxis": {
            "backgroundcolor": "#E5ECF6",
            "gridcolor": "white",
            "gridwidth": 2,
            "linecolor": "white",
            "showbackground": true,
            "ticks": "",
            "zerolinecolor": "white"
           }
          },
          "shapedefaults": {
           "line": {
            "color": "#2a3f5f"
           }
          },
          "ternary": {
           "aaxis": {
            "gridcolor": "white",
            "linecolor": "white",
            "ticks": ""
           },
           "baxis": {
            "gridcolor": "white",
            "linecolor": "white",
            "ticks": ""
           },
           "bgcolor": "#E5ECF6",
           "caxis": {
            "gridcolor": "white",
            "linecolor": "white",
            "ticks": ""
           }
          },
          "title": {
           "x": 0.05
          },
          "xaxis": {
           "automargin": true,
           "gridcolor": "white",
           "linecolor": "white",
           "ticks": "",
           "title": {
            "standoff": 15
           },
           "zerolinecolor": "white",
           "zerolinewidth": 2
          },
          "yaxis": {
           "automargin": true,
           "gridcolor": "white",
           "linecolor": "white",
           "ticks": "",
           "title": {
            "standoff": 15
           },
           "zerolinecolor": "white",
           "zerolinewidth": 2
          }
         }
        },
        "title": {
         "text": "<b>CO Matchup Win Rate Matrix</b>"
        },
        "width": 1000,
        "xaxis": {
         "side": "top",
         "title": {
          "text": "Losing CO"
         }
        },
        "yaxis": {
         "autorange": "reversed",
         "title": {
          "text": "Winning CO"
         }
        }
       }
      }
     },
     "metadata": {},
     "output_type": "display_data"
    }
   ],
   "source": [
    "fig = go.Figure(\n",
    "    go.Heatmap(\n",
    "    z= co_matchup_matrix['matchupWinRate'].to_numpy(),\n",
    "    x= co_matchup_matrix['matchupWinRate'].columns,\n",
    "    y= co_matchup_matrix['matchupWinRate'].index,\n",
    "    customdata= co_matchup_matrix['matchupTotal'].to_numpy(),\n",
    "    colorscale= 'emrld',\n",
    "    texttemplate= \"%{z:.2f}\",\n",
    "    hovertemplate= (\n",
    "        \"matchupWinRate: %{z:.2f}<br>\"\n",
    "        \"matchupTotal: %{customdata}\"\n",
    "        \"<extra></extra>\")\n",
    "    )\n",
    ")\n",
    "\n",
    "fig.update_xaxes(\n",
    "    title= \"Losing CO\",\n",
    "    side= 'top',\n",
    ")\n",
    "fig.update_yaxes(\n",
    "    title= \"Winning CO\",\n",
    "    autorange= 'reversed',\n",
    ")\n",
    "fig.update_layout(\n",
    "    title= (\"<b>CO Matchup Win Rate Matrix</b>\"),\n",
    "    height= 1000,\n",
    "    width= 1000,\n",
    "    margin=dict(l=125, r=50, t=125, b=50),\n",
    ")\n",
    "\n",
    "fig.show()"
   ]
  },
  {
   "cell_type": "code",
   "execution_count": 23,
   "metadata": {},
   "outputs": [],
   "source": [
    "# Save figure to html file\n",
    "# fig.write_html(\"reports/co_matchup_matrix.html\")"
   ]
  }
 ],
 "metadata": {
  "kernelspec": {
   "display_name": ".venv",
   "language": "python",
   "name": "python3"
  },
  "language_info": {
   "codemirror_mode": {
    "name": "ipython",
    "version": 3
   },
   "file_extension": ".py",
   "mimetype": "text/x-python",
   "name": "python",
   "nbconvert_exporter": "python",
   "pygments_lexer": "ipython3",
   "version": "3.9.6"
  },
  "orig_nbformat": 4,
  "vscode": {
   "interpreter": {
    "hash": "1157406105643a7922daf3af34a861e74c1be76f848d051cd81389081baf084d"
   }
  }
 },
 "nbformat": 4,
 "nbformat_minor": 2
}
