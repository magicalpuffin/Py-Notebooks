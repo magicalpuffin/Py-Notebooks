{
 "cells": [
  {
   "cell_type": "code",
   "execution_count": 1,
   "metadata": {},
   "outputs": [],
   "source": [
    "import pandas as pd\n",
    "import plotly.express as px\n",
    "import plotly.graph_objects as go\n",
    "import json"
   ]
  },
  {
   "attachments": {},
   "cell_type": "markdown",
   "metadata": {},
   "source": [
    "Geojson data sources:\n",
    "- https://eric.clst.org/tech/usgeojson/\n",
    "- https://github.com/OpenDataDE/State-zip-code-GeoJSON"
   ]
  },
  {
   "cell_type": "code",
   "execution_count": 2,
   "metadata": {},
   "outputs": [],
   "source": [
    "# uhh these files get pretty big pretty quick\n",
    "with open('data/geojson/state/gz_2010_us_040_00_20m.json', 'r') as f:\n",
    "    states_geojson = json.load(f)\n",
    "\n",
    "with open('data/geojson/zipcode/ca_california_zip_codes_geo.min.json', 'r') as f:\n",
    "    ca_zipcode_geojson = json.load(f)"
   ]
  },
  {
   "cell_type": "code",
   "execution_count": 3,
   "metadata": {},
   "outputs": [],
   "source": [
    "state_abbreviation = pd.read_csv('data/state_abbreviation.csv')\n",
    "state_abbreviation_dict = state_abbreviation.set_index('Abbreviation')['Name'].to_dict()"
   ]
  },
  {
   "cell_type": "code",
   "execution_count": 4,
   "metadata": {},
   "outputs": [],
   "source": [
    "rental_df_raw = pd.read_parquet('data/clean_housing_data.parquet')"
   ]
  },
  {
   "cell_type": "code",
   "execution_count": 5,
   "metadata": {},
   "outputs": [],
   "source": [
    "# To avoid importing repeatedly\n",
    "rental_df = rental_df_raw"
   ]
  },
  {
   "cell_type": "code",
   "execution_count": 6,
   "metadata": {},
   "outputs": [],
   "source": [
    "rental_df.loc[:, 'state'] = rental_df.loc[:, 'state'].replace(state_abbreviation_dict)"
   ]
  },
  {
   "cell_type": "code",
   "execution_count": 7,
   "metadata": {},
   "outputs": [],
   "source": [
    "# Trying to limit data set to only a time step for now\n",
    "initialdate = rental_df['date'].iloc[0]\n",
    "initialrental_df = rental_df[rental_df['date'] == initialdate]"
   ]
  },
  {
   "cell_type": "code",
   "execution_count": 8,
   "metadata": {},
   "outputs": [],
   "source": [
    "initialrentbystate = initialrental_df.loc[:, ['state', 'market_rent']].groupby('state').mean()"
   ]
  },
  {
   "cell_type": "code",
   "execution_count": 9,
   "metadata": {},
   "outputs": [
    {
     "data": {
      "text/html": [
       "<div>\n",
       "<style scoped>\n",
       "    .dataframe tbody tr th:only-of-type {\n",
       "        vertical-align: middle;\n",
       "    }\n",
       "\n",
       "    .dataframe tbody tr th {\n",
       "        vertical-align: top;\n",
       "    }\n",
       "\n",
       "    .dataframe thead th {\n",
       "        text-align: right;\n",
       "    }\n",
       "</style>\n",
       "<table border=\"1\" class=\"dataframe\">\n",
       "  <thead>\n",
       "    <tr style=\"text-align: right;\">\n",
       "      <th></th>\n",
       "      <th>market_rent</th>\n",
       "    </tr>\n",
       "    <tr>\n",
       "      <th>state</th>\n",
       "      <th></th>\n",
       "    </tr>\n",
       "  </thead>\n",
       "  <tbody>\n",
       "    <tr>\n",
       "      <th>Arizona</th>\n",
       "      <td>2288.132353</td>\n",
       "    </tr>\n",
       "    <tr>\n",
       "      <th>California</th>\n",
       "      <td>3135.859504</td>\n",
       "    </tr>\n",
       "    <tr>\n",
       "      <th>Colorado</th>\n",
       "      <td>2535.089109</td>\n",
       "    </tr>\n",
       "    <tr>\n",
       "      <th>Florida</th>\n",
       "      <td>2728.968701</td>\n",
       "    </tr>\n",
       "    <tr>\n",
       "      <th>Georgia</th>\n",
       "      <td>2186.465608</td>\n",
       "    </tr>\n",
       "    <tr>\n",
       "      <th>Illinois</th>\n",
       "      <td>2473.694444</td>\n",
       "    </tr>\n",
       "    <tr>\n",
       "      <th>Minnesota</th>\n",
       "      <td>2376.758621</td>\n",
       "    </tr>\n",
       "    <tr>\n",
       "      <th>Nevada</th>\n",
       "      <td>2345.891667</td>\n",
       "    </tr>\n",
       "    <tr>\n",
       "      <th>North Carolina</th>\n",
       "      <td>2083.202381</td>\n",
       "    </tr>\n",
       "    <tr>\n",
       "      <th>Texas</th>\n",
       "      <td>2119.489583</td>\n",
       "    </tr>\n",
       "    <tr>\n",
       "      <th>Washington</th>\n",
       "      <td>3021.678571</td>\n",
       "    </tr>\n",
       "  </tbody>\n",
       "</table>\n",
       "</div>"
      ],
      "text/plain": [
       "                market_rent\n",
       "state                      \n",
       "Arizona         2288.132353\n",
       "California      3135.859504\n",
       "Colorado        2535.089109\n",
       "Florida         2728.968701\n",
       "Georgia         2186.465608\n",
       "Illinois        2473.694444\n",
       "Minnesota       2376.758621\n",
       "Nevada          2345.891667\n",
       "North Carolina  2083.202381\n",
       "Texas           2119.489583\n",
       "Washington      3021.678571"
      ]
     },
     "execution_count": 9,
     "metadata": {},
     "output_type": "execute_result"
    }
   ],
   "source": [
    "initialrentbystate"
   ]
  },
  {
   "cell_type": "code",
   "execution_count": 10,
   "metadata": {},
   "outputs": [],
   "source": [
    "# This figure might take a while and honestly doesn't really show anything interesting...\n",
    "# fig = go.Figure(\n",
    "#     go.Choroplethmapbox(\n",
    "#         geojson= states_geojson,\n",
    "#         featureidkey= \"properties.NAME\",\n",
    "#         locations= initialrentbystate.index,\n",
    "#         z= initialrentbystate['market_rent'],\n",
    "#         marker_opacity=0.5, \n",
    "#         marker_line_width=0,\n",
    "#     )\n",
    "# )\n",
    "\n",
    "# fig.update_layout(mapbox_style=\"carto-positron\",\n",
    "#                   mapbox_zoom=3, mapbox_center = {\"lat\": 37.0902, \"lon\": -95.7129})\n",
    "# fig.update_layout(margin={\"r\":0,\"t\":0,\"l\":0,\"b\":0})\n",
    "\n",
    "# fig.show()"
   ]
  },
  {
   "cell_type": "code",
   "execution_count": 11,
   "metadata": {},
   "outputs": [],
   "source": [
    "# Trying to get a breakdown of a specific state\n",
    "initialrental_df_ca = initialrental_df[initialrental_df['state'] == 'California']\n",
    "initialrent_ca = initialrental_df_ca.loc[:, ['zipcode', 'market_rent']].groupby('zipcode').mean()"
   ]
  },
  {
   "cell_type": "code",
   "execution_count": 12,
   "metadata": {},
   "outputs": [
    {
     "data": {
      "text/html": [
       "<div>\n",
       "<style scoped>\n",
       "    .dataframe tbody tr th:only-of-type {\n",
       "        vertical-align: middle;\n",
       "    }\n",
       "\n",
       "    .dataframe tbody tr th {\n",
       "        vertical-align: top;\n",
       "    }\n",
       "\n",
       "    .dataframe thead th {\n",
       "        text-align: right;\n",
       "    }\n",
       "</style>\n",
       "<table border=\"1\" class=\"dataframe\">\n",
       "  <thead>\n",
       "    <tr style=\"text-align: right;\">\n",
       "      <th></th>\n",
       "      <th>market_rent</th>\n",
       "    </tr>\n",
       "    <tr>\n",
       "      <th>zipcode</th>\n",
       "      <th></th>\n",
       "    </tr>\n",
       "  </thead>\n",
       "  <tbody>\n",
       "    <tr>\n",
       "      <th>95993.0</th>\n",
       "      <td>2295.0</td>\n",
       "    </tr>\n",
       "    <tr>\n",
       "      <th>95833.0</th>\n",
       "      <td>2295.0</td>\n",
       "    </tr>\n",
       "    <tr>\n",
       "      <th>92562.0</th>\n",
       "      <td>2295.0</td>\n",
       "    </tr>\n",
       "    <tr>\n",
       "      <th>95824.0</th>\n",
       "      <td>2299.0</td>\n",
       "    </tr>\n",
       "    <tr>\n",
       "      <th>95240.0</th>\n",
       "      <td>2395.0</td>\n",
       "    </tr>\n",
       "    <tr>\n",
       "      <th>...</th>\n",
       "      <td>...</td>\n",
       "    </tr>\n",
       "    <tr>\n",
       "      <th>91390.0</th>\n",
       "      <td>4115.0</td>\n",
       "    </tr>\n",
       "    <tr>\n",
       "      <th>92506.0</th>\n",
       "      <td>4219.0</td>\n",
       "    </tr>\n",
       "    <tr>\n",
       "      <th>91320.0</th>\n",
       "      <td>4295.0</td>\n",
       "    </tr>\n",
       "    <tr>\n",
       "      <th>91405.0</th>\n",
       "      <td>4339.0</td>\n",
       "    </tr>\n",
       "    <tr>\n",
       "      <th>91506.0</th>\n",
       "      <td>4399.0</td>\n",
       "    </tr>\n",
       "  </tbody>\n",
       "</table>\n",
       "<p>83 rows × 1 columns</p>\n",
       "</div>"
      ],
      "text/plain": [
       "         market_rent\n",
       "zipcode             \n",
       "95993.0       2295.0\n",
       "95833.0       2295.0\n",
       "92562.0       2295.0\n",
       "95824.0       2299.0\n",
       "95240.0       2395.0\n",
       "...              ...\n",
       "91390.0       4115.0\n",
       "92506.0       4219.0\n",
       "91320.0       4295.0\n",
       "91405.0       4339.0\n",
       "91506.0       4399.0\n",
       "\n",
       "[83 rows x 1 columns]"
      ]
     },
     "execution_count": 12,
     "metadata": {},
     "output_type": "execute_result"
    }
   ],
   "source": [
    "# initialrent_ca\n",
    "initialrent_ca.sort_values('market_rent')"
   ]
  },
  {
   "cell_type": "code",
   "execution_count": 13,
   "metadata": {},
   "outputs": [],
   "source": [
    "# This figure takes a really long time, there are a lot of zip codes, could just search the zip codes manually ...\n",
    "# Uhhhhh this figure breaks stuff because of how laggy it is i think...\n",
    "# I guess its useful as a visualization of where things are but it probably should just be written to html and viewed separately\n",
    "# fig = go.Figure(\n",
    "#     go.Choroplethmapbox(\n",
    "#         geojson= ca_zipcode_geojson,\n",
    "#         featureidkey= \"properties.ZCTA5CE10\",\n",
    "#         locations= initialrent_ca.index,\n",
    "#         z= initialrent_ca['market_rent'],\n",
    "#         marker_opacity=0.5, \n",
    "#         marker_line_width=0,\n",
    "#     )\n",
    "# )\n",
    "\n",
    "# fig.update_layout(mapbox_style=\"carto-positron\",\n",
    "#                   mapbox_zoom=3, mapbox_center = {\"lat\": 37.0902, \"lon\": -95.7129})\n",
    "# fig.update_layout(margin={\"r\":0,\"t\":0,\"l\":0,\"b\":0})\n",
    "\n",
    "# fig.write_html(\"reports/ca_zip_market_rent.html\")"
   ]
  }
 ],
 "metadata": {
  "kernelspec": {
   "display_name": ".venv",
   "language": "python",
   "name": "python3"
  },
  "language_info": {
   "codemirror_mode": {
    "name": "ipython",
    "version": 3
   },
   "file_extension": ".py",
   "mimetype": "text/x-python",
   "name": "python",
   "nbconvert_exporter": "python",
   "pygments_lexer": "ipython3",
   "version": "3.10.2"
  },
  "orig_nbformat": 4
 },
 "nbformat": 4,
 "nbformat_minor": 2
}
