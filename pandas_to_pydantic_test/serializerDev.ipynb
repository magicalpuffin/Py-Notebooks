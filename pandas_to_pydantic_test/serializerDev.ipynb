{
 "cells": [
  {
   "cell_type": "code",
   "execution_count": 98,
   "metadata": {},
   "outputs": [],
   "source": [
    "import json\n",
    "import types\n",
    "from typing import Optional\n",
    "\n",
    "import pandas as pd\n",
    "from pandas_to_pydantic import (\n",
    "    dataframe_to_pydantic,\n",
    "    expand_annotation,\n",
    "    get_base_fields,\n",
    "    get_list_fields,\n",
    "    get_root_list,\n",
    ")\n",
    "from pydantic import BaseModel, RootModel\n",
    "from pydantic._internal._model_construction import ModelMetaclass\n",
    "\n",
    "from pandas_to_pydantic_test.config import BOOK_DATA_PATH, DATA_PATH, LIBRARY_DATA_PATH\n",
    "from pandas_to_pydantic_test.libraryTypes import Library"
   ]
  },
  {
   "cell_type": "code",
   "execution_count": 99,
   "metadata": {},
   "outputs": [],
   "source": [
    "libraryData = pd.read_csv(LIBRARY_DATA_PATH)\n",
    "bookData = pd.read_csv(BOOK_DATA_PATH)"
   ]
  },
  {
   "cell_type": "code",
   "execution_count": 100,
   "metadata": {},
   "outputs": [
    {
     "data": {
      "text/plain": [
       "{'LibraryID': 1,\n",
       " 'LibraryName': 'City Central Library',\n",
       " 'Location': 'Cityville',\n",
       " 'EstablishedYear': 1950,\n",
       " 'BookCollectionSize': 50000,\n",
       " 'AuthorID': 1,\n",
       " 'AuthorName': 'J.K. Rowling',\n",
       " 'AuthorBirthdate': '1965-07-31',\n",
       " 'BookID': 1,\n",
       " 'Title': \"Harry Potter and the Philosopher's Stone\",\n",
       " 'Genre': 'Fantasy',\n",
       " 'PublishedYear': 1997,\n",
       " 'AvailableCopies': 5}"
      ]
     },
     "execution_count": 100,
     "metadata": {},
     "output_type": "execute_result"
    }
   ],
   "source": [
    "libraryData.to_dict(\"records\")[0]"
   ]
  },
  {
   "cell_type": "code",
   "execution_count": 170,
   "metadata": {},
   "outputs": [],
   "source": [
    "class Author(BaseModel):\n",
    "    AuthorID: int\n",
    "    AuthorName: str\n",
    "    AuthorBirthdate: str\n",
    "\n",
    "\n",
    "class Book(BaseModel):\n",
    "    BookID: int\n",
    "    Title: str\n",
    "    Genre: str\n",
    "    PublishedYear: int\n",
    "    AvailableCopies: int\n",
    "    Author: Author"
   ]
  },
  {
   "cell_type": "code",
   "execution_count": 131,
   "metadata": {},
   "outputs": [],
   "source": [
    "class ModelColumns(BaseModel):\n",
    "    name: str\n",
    "    id_column: str | None\n",
    "    base_columns: list[str]\n",
    "    list_columns: list[\"ModelColumns\"]\n",
    "    child_columns: list[\"ModelColumns\"]"
   ]
  },
  {
   "cell_type": "code",
   "execution_count": 102,
   "metadata": {},
   "outputs": [],
   "source": [
    "annotations = Library.__annotations__.copy()"
   ]
  },
  {
   "cell_type": "code",
   "execution_count": 103,
   "metadata": {},
   "outputs": [
    {
     "data": {
      "text/plain": [
       "{'LibraryID': int,\n",
       " 'LibraryName': str,\n",
       " 'Location': str,\n",
       " 'EstablishedYear': int,\n",
       " 'BookCollectionSize': int,\n",
       " 'AuthorList': list[pandas_to_pydantic_test.libraryTypes.Author]}"
      ]
     },
     "execution_count": 103,
     "metadata": {},
     "output_type": "execute_result"
    }
   ],
   "source": [
    "annotations"
   ]
  },
  {
   "cell_type": "code",
   "execution_count": 184,
   "metadata": {},
   "outputs": [],
   "source": [
    "def get_model_columns(\n",
    "    model: ModelMetaclass,\n",
    "    id_column_map: dict[str, str | None] = {},\n",
    "    name: str | None = None,\n",
    ") -> ModelColumns:\n",
    "    if not model.__base__ == BaseModel:\n",
    "        error_message = f\"{model} is not a BaseModel\"\n",
    "        raise TypeError(error_message)\n",
    "\n",
    "    if name is None:\n",
    "        name = model.__name__\n",
    "    id_column = id_column_map.get(name)\n",
    "    annotations = model.__annotations__\n",
    "\n",
    "    base_columns = []\n",
    "    list_columns = []\n",
    "    child_columns = []\n",
    "\n",
    "    for field_name, field_type in annotations.items():\n",
    "        if isinstance(field_type, types.GenericAlias):\n",
    "            if field_type.__origin__ == list:\n",
    "                list_columns.append(\n",
    "                    get_model_columns(field_type.__args__[0], id_column_map, field_name)\n",
    "                )\n",
    "        elif isinstance(field_type, ModelMetaclass):\n",
    "            if field_type.__base__ == BaseModel:\n",
    "                child_columns.append(get_model_columns(field_type, id_column_map))\n",
    "        else:\n",
    "            base_columns.append(field_name)\n",
    "\n",
    "    return ModelColumns(\n",
    "        name=name,\n",
    "        id_column=id_column,\n",
    "        base_columns=base_columns,\n",
    "        list_columns=list_columns,\n",
    "        child_columns=child_columns,\n",
    "    )"
   ]
  },
  {
   "cell_type": "code",
   "execution_count": 187,
   "metadata": {},
   "outputs": [],
   "source": [
    "class GrandchildModel(BaseModel):\n",
    "    grand_child_string: str\n",
    "    grand_child_integer: int\n",
    "\n",
    "\n",
    "class ChildModel(BaseModel):\n",
    "    child_string: str\n",
    "    child_integer: int\n",
    "    child_list_grand_child: list[GrandchildModel]\n",
    "\n",
    "\n",
    "class ParentModel(BaseModel):\n",
    "    parent_string: str\n",
    "    parent_integer: int\n",
    "    parent_float: float\n",
    "    parent_list_child: list[ChildModel]"
   ]
  },
  {
   "cell_type": "code",
   "execution_count": 189,
   "metadata": {},
   "outputs": [
    {
     "data": {
      "text/plain": [
       "{'name': 'ParentModel',\n",
       " 'id_column': None,\n",
       " 'base_columns': ['parent_string', 'parent_integer', 'parent_float'],\n",
       " 'list_columns': [{'name': 'parent_list_child',\n",
       "   'id_column': None,\n",
       "   'base_columns': ['child_string', 'child_integer'],\n",
       "   'list_columns': [{'name': 'child_list_grand_child',\n",
       "     'id_column': None,\n",
       "     'base_columns': ['grand_child_string', 'grand_child_integer'],\n",
       "     'list_columns': [],\n",
       "     'child_columns': []}],\n",
       "   'child_columns': []}],\n",
       " 'child_columns': []}"
      ]
     },
     "execution_count": 189,
     "metadata": {},
     "output_type": "execute_result"
    }
   ],
   "source": [
    "get_model_columns(ParentModel).model_dump()"
   ]
  },
  {
   "cell_type": "code",
   "execution_count": 186,
   "metadata": {},
   "outputs": [
    {
     "data": {
      "text/plain": [
       "{'name': 'Library',\n",
       " 'id_column': 'LibraryID',\n",
       " 'base_columns': ['LibraryID',\n",
       "  'LibraryName',\n",
       "  'Location',\n",
       "  'EstablishedYear',\n",
       "  'BookCollectionSize'],\n",
       " 'list_columns': [{'name': 'AuthorList',\n",
       "   'id_column': 'AuthorID',\n",
       "   'base_columns': ['AuthorID', 'AuthorName', 'AuthorBirthdate'],\n",
       "   'list_columns': [{'name': 'BookList',\n",
       "     'id_column': None,\n",
       "     'base_columns': ['BookID',\n",
       "      'Title',\n",
       "      'Genre',\n",
       "      'PublishedYear',\n",
       "      'AvailableCopies'],\n",
       "     'list_columns': [],\n",
       "     'child_columns': []}],\n",
       "   'child_columns': []}],\n",
       " 'child_columns': []}"
      ]
     },
     "execution_count": 186,
     "metadata": {},
     "output_type": "execute_result"
    }
   ],
   "source": [
    "get_model_columns(\n",
    "    Library, {\"Library\": \"LibraryID\", \"AuthorList\": \"AuthorID\", \"Book\": \"BookID\"}\n",
    ").model_dump()"
   ]
  },
  {
   "cell_type": "code",
   "execution_count": 167,
   "metadata": {},
   "outputs": [],
   "source": [
    "def serialize_dataframe(data: pd.DataFrame, model_columns: ModelColumns) -> list[dict]:\n",
    "    new_list = []\n",
    "\n",
    "    if not model_columns.id_column:\n",
    "        return data[model_columns.base_columns].to_dict(orient=\"records\")\n",
    "\n",
    "    for value in data[model_columns.id_column].unique():\n",
    "        base_dict = {}\n",
    "\n",
    "        slice_data = data[data[model_columns.id_column] == value]\n",
    "\n",
    "        base_dict = {**slice_data[model_columns.base_columns].iloc[0].to_dict()}\n",
    "\n",
    "        for list_model in model_columns.list_columns:\n",
    "            base_dict[list_model.name] = serialize_dataframe(slice_data, list_model)\n",
    "\n",
    "        for child_model in model_columns.child_columns:\n",
    "            # zero index to work around returning a list\n",
    "            base_dict[child_model.name] = serialize_dataframe(slice_data, child_model)[\n",
    "                0\n",
    "            ]\n",
    "\n",
    "        new_list.append(base_dict)\n",
    "\n",
    "    return new_list"
   ]
  },
  {
   "cell_type": "code",
   "execution_count": 169,
   "metadata": {},
   "outputs": [
    {
     "data": {
      "text/plain": [
       "{'LibraryID': 1,\n",
       " 'LibraryName': 'City Central Library',\n",
       " 'Location': 'Cityville',\n",
       " 'EstablishedYear': 1950,\n",
       " 'BookCollectionSize': 50000,\n",
       " 'Author': [{'AuthorID': 1,\n",
       "   'AuthorName': 'J.K. Rowling',\n",
       "   'AuthorBirthdate': '1965-07-31',\n",
       "   'Book': [{'BookID': 1,\n",
       "     'Title': \"Harry Potter and the Philosopher's Stone\",\n",
       "     'Genre': 'Fantasy',\n",
       "     'PublishedYear': 1997,\n",
       "     'AvailableCopies': 5},\n",
       "    {'BookID': 2,\n",
       "     'Title': 'Harry Potter and the Chamber of Secrets',\n",
       "     'Genre': 'Fantasy',\n",
       "     'PublishedYear': 1998,\n",
       "     'AvailableCopies': 3}]},\n",
       "  {'AuthorID': 5,\n",
       "   'AuthorName': 'Mark Twain',\n",
       "   'AuthorBirthdate': '1835-11-30',\n",
       "   'Book': [{'BookID': 10,\n",
       "     'Title': 'The Adventures of Tom Sawyer',\n",
       "     'Genre': 'Adventure',\n",
       "     'PublishedYear': 1876,\n",
       "     'AvailableCopies': 2}]}]}"
      ]
     },
     "execution_count": 169,
     "metadata": {},
     "output_type": "execute_result"
    }
   ],
   "source": [
    "serialize_dataframe(\n",
    "    libraryData,\n",
    "    get_model_columns(Library, {\"Library\": \"LibraryID\", \"Author\": \"AuthorID\"}),\n",
    ")[0]"
   ]
  },
  {
   "cell_type": "code",
   "execution_count": 171,
   "metadata": {},
   "outputs": [
    {
     "data": {
      "text/plain": [
       "[{'BookID': 1,\n",
       "  'Author': {'AuthorID': 1,\n",
       "   'AuthorName': 'J.K. Rowling',\n",
       "   'AuthorBirthdate': '1965-07-31'}},\n",
       " {'BookID': 2,\n",
       "  'Author': {'AuthorID': 1,\n",
       "   'AuthorName': 'J.K. Rowling',\n",
       "   'AuthorBirthdate': '1965-07-31'}},\n",
       " {'BookID': 10,\n",
       "  'Author': {'AuthorID': 5,\n",
       "   'AuthorName': 'Mark Twain',\n",
       "   'AuthorBirthdate': '1835-11-30'}},\n",
       " {'BookID': 3,\n",
       "  'Author': {'AuthorID': 2,\n",
       "   'AuthorName': 'George Orwell',\n",
       "   'AuthorBirthdate': '1903-06-25'}},\n",
       " {'BookID': 11,\n",
       "  'Author': {'AuthorID': 6,\n",
       "   'AuthorName': 'J.R.R. Tolkien',\n",
       "   'AuthorBirthdate': '1892-01-03'}},\n",
       " {'BookID': 5,\n",
       "  'Author': {'AuthorID': 3,\n",
       "   'AuthorName': 'Jane Austen',\n",
       "   'AuthorBirthdate': '1775-12-16'}},\n",
       " {'BookID': 7,\n",
       "  'Author': {'AuthorID': 4,\n",
       "   'AuthorName': 'Agatha Christie',\n",
       "   'AuthorBirthdate': '1890-09-15'}},\n",
       " {'BookID': 9,\n",
       "  'Author': {'AuthorID': 5,\n",
       "   'AuthorName': 'Mark Twain',\n",
       "   'AuthorBirthdate': '1835-11-30'}},\n",
       " {'BookID': 4,\n",
       "  'Author': {'AuthorID': 2,\n",
       "   'AuthorName': 'George Orwell',\n",
       "   'AuthorBirthdate': '1903-06-25'}},\n",
       " {'BookID': 12,\n",
       "  'Author': {'AuthorID': 6,\n",
       "   'AuthorName': 'J.R.R. Tolkien',\n",
       "   'AuthorBirthdate': '1892-01-03'}}]"
      ]
     },
     "execution_count": 171,
     "metadata": {},
     "output_type": "execute_result"
    }
   ],
   "source": [
    "serialize_dataframe(libraryData, get_model_columns(Book, {\"Book\": \"BookID\"}))"
   ]
  },
  {
   "cell_type": "code",
   "execution_count": 37,
   "metadata": {},
   "outputs": [],
   "source": [
    "def expand_annotation(model: ModelMetaclass) -> dict:\n",
    "    if not model.__base__ == BaseModel:\n",
    "        error_message = f\"{model} is not a BaseModel\"\n",
    "        raise TypeError(error_message)\n",
    "\n",
    "    annotations = model.__annotations__.copy()\n",
    "\n",
    "    for field_name, field_type in annotations.items():\n",
    "        if isinstance(field_type, types.GenericAlias):\n",
    "            # Only expanding lists\n",
    "            if field_type.__origin__ == list:\n",
    "                # Using lists to indicate list structure\n",
    "                annotations[field_name] = [expand_annotation(field_type.__args__[0])]\n",
    "        elif isinstance(field_type, ModelMetaclass):\n",
    "            if field_type.__base__ == BaseModel:\n",
    "                annotations[field_name] = expand_annotation(field_type)\n",
    "\n",
    "    return annotations\n",
    "\n",
    "\n",
    "def split_fields(annotation: dict) -> list[str]:\n",
    "    base_fields = []\n",
    "    list_fields = []\n",
    "    dict_fields = []\n",
    "\n",
    "    for annotation_name, annotation_type in annotation.items():\n",
    "        if isinstance(annotation_type, list):\n",
    "            list_fields.append(annotation_name)\n",
    "        elif isinstance(annotation_type, dict):\n",
    "            dict_fields.append(annotation_name)\n",
    "        else:\n",
    "            base_fields.append(annotation_name)\n",
    "\n",
    "    return {\n",
    "        \"base\": base_fields,\n",
    "        \"list\": list_fields,\n",
    "        \"dict\": dict_fields,\n",
    "    }"
   ]
  },
  {
   "cell_type": "code",
   "execution_count": 38,
   "metadata": {},
   "outputs": [],
   "source": [
    "model_columns = expand_annotation(Book)\n",
    "fields = split_fields(expand_annotation(Book))"
   ]
  },
  {
   "cell_type": "code",
   "execution_count": 39,
   "metadata": {},
   "outputs": [
    {
     "data": {
      "text/plain": [
       "{'BookID': int,\n",
       " 'Title': str,\n",
       " 'Genre': str,\n",
       " 'PublishedYear': int,\n",
       " 'AvailableCopies': int,\n",
       " 'Author': {'AuthorID': int, 'AuthorName': str, 'AuthorBirthdate': str}}"
      ]
     },
     "execution_count": 39,
     "metadata": {},
     "output_type": "execute_result"
    }
   ],
   "source": [
    "model_columns"
   ]
  },
  {
   "cell_type": "code",
   "execution_count": 47,
   "metadata": {},
   "outputs": [
    {
     "data": {
      "text/plain": [
       "{'base': ['BookID', 'Title', 'Genre', 'PublishedYear', 'AvailableCopies'],\n",
       " 'list': [],\n",
       " 'dict': ['Author']}"
      ]
     },
     "execution_count": 47,
     "metadata": {},
     "output_type": "execute_result"
    }
   ],
   "source": [
    "fields"
   ]
  },
  {
   "cell_type": "code",
   "execution_count": 41,
   "metadata": {},
   "outputs": [
    {
     "data": {
      "text/plain": [
       "{'AuthorID': int, 'AuthorName': str, 'AuthorBirthdate': str}"
      ]
     },
     "execution_count": 41,
     "metadata": {},
     "output_type": "execute_result"
    }
   ],
   "source": [
    "model_columns[fields[\"dict\"][0]]"
   ]
  },
  {
   "cell_type": "code",
   "execution_count": 42,
   "metadata": {},
   "outputs": [],
   "source": [
    "new_list = []\n",
    "data = libraryData\n",
    "id_field = fields[\"base\"][0]"
   ]
  },
  {
   "cell_type": "code",
   "execution_count": 45,
   "metadata": {},
   "outputs": [],
   "source": [
    "slice_data = data[data[id_field] == 1]"
   ]
  },
  {
   "cell_type": "code",
   "execution_count": 46,
   "metadata": {},
   "outputs": [
    {
     "data": {
      "text/html": [
       "<div>\n",
       "<style scoped>\n",
       "    .dataframe tbody tr th:only-of-type {\n",
       "        vertical-align: middle;\n",
       "    }\n",
       "\n",
       "    .dataframe tbody tr th {\n",
       "        vertical-align: top;\n",
       "    }\n",
       "\n",
       "    .dataframe thead th {\n",
       "        text-align: right;\n",
       "    }\n",
       "</style>\n",
       "<table border=\"1\" class=\"dataframe\">\n",
       "  <thead>\n",
       "    <tr style=\"text-align: right;\">\n",
       "      <th></th>\n",
       "      <th>LibraryID</th>\n",
       "      <th>LibraryName</th>\n",
       "      <th>Location</th>\n",
       "      <th>EstablishedYear</th>\n",
       "      <th>BookCollectionSize</th>\n",
       "      <th>AuthorID</th>\n",
       "      <th>AuthorName</th>\n",
       "      <th>AuthorBirthdate</th>\n",
       "      <th>BookID</th>\n",
       "      <th>Title</th>\n",
       "      <th>Genre</th>\n",
       "      <th>PublishedYear</th>\n",
       "      <th>AvailableCopies</th>\n",
       "    </tr>\n",
       "  </thead>\n",
       "  <tbody>\n",
       "    <tr>\n",
       "      <th>0</th>\n",
       "      <td>1</td>\n",
       "      <td>City Central Library</td>\n",
       "      <td>Cityville</td>\n",
       "      <td>1950</td>\n",
       "      <td>50000</td>\n",
       "      <td>1</td>\n",
       "      <td>J.K. Rowling</td>\n",
       "      <td>1965-07-31</td>\n",
       "      <td>1</td>\n",
       "      <td>Harry Potter and the Philosopher's Stone</td>\n",
       "      <td>Fantasy</td>\n",
       "      <td>1997</td>\n",
       "      <td>5</td>\n",
       "    </tr>\n",
       "  </tbody>\n",
       "</table>\n",
       "</div>"
      ],
      "text/plain": [
       "   LibraryID           LibraryName   Location  EstablishedYear  \\\n",
       "0          1  City Central Library  Cityville             1950   \n",
       "\n",
       "   BookCollectionSize  AuthorID    AuthorName AuthorBirthdate  BookID  \\\n",
       "0               50000         1  J.K. Rowling      1965-07-31       1   \n",
       "\n",
       "                                      Title    Genre  PublishedYear  \\\n",
       "0  Harry Potter and the Philosopher's Stone  Fantasy           1997   \n",
       "\n",
       "   AvailableCopies  \n",
       "0                5  "
      ]
     },
     "execution_count": 46,
     "metadata": {},
     "output_type": "execute_result"
    }
   ],
   "source": [
    "slice_data"
   ]
  },
  {
   "cell_type": "code",
   "execution_count": 48,
   "metadata": {},
   "outputs": [],
   "source": [
    "base_dict = slice_data[fields[\"base\"]].iloc[0].to_dict()"
   ]
  },
  {
   "cell_type": "code",
   "execution_count": 49,
   "metadata": {},
   "outputs": [
    {
     "data": {
      "text/plain": [
       "{'BookID': 1,\n",
       " 'Title': \"Harry Potter and the Philosopher's Stone\",\n",
       " 'Genre': 'Fantasy',\n",
       " 'PublishedYear': 1997,\n",
       " 'AvailableCopies': 5}"
      ]
     },
     "execution_count": 49,
     "metadata": {},
     "output_type": "execute_result"
    }
   ],
   "source": [
    "base_dict"
   ]
  },
  {
   "cell_type": "code",
   "execution_count": 50,
   "metadata": {},
   "outputs": [
    {
     "data": {
      "text/plain": [
       "{'AuthorID': int, 'AuthorName': str, 'AuthorBirthdate': str}"
      ]
     },
     "execution_count": 50,
     "metadata": {},
     "output_type": "execute_result"
    }
   ],
   "source": [
    "model_columns[fields[\"dict\"][0]]"
   ]
  },
  {
   "cell_type": "code",
   "execution_count": null,
   "metadata": {},
   "outputs": [],
   "source": [
    "# Assumes first field is id\n",
    "\n",
    "for value in data[id_field].unique():\n",
    "    slice_data = data[data[id_field] == value]\n",
    "\n",
    "    base_dict = slice_data[fields[\"base\"]].iloc[0].to_dict()\n",
    "\n",
    "    if fields[\"list\"]:\n",
    "        # Only one list field is currently supported\n",
    "        base_dict[fields[\"list\"][0]] = serialize_dataframe(\n",
    "            slice_data, model_columns[fields[\"list\"][0]][0]\n",
    "        )"
   ]
  },
  {
   "cell_type": "code",
   "execution_count": 10,
   "metadata": {},
   "outputs": [],
   "source": [
    "libraryListRoot = dataframe_to_pydantic(libraryData, Library)"
   ]
  },
  {
   "cell_type": "code",
   "execution_count": 11,
   "metadata": {},
   "outputs": [
    {
     "data": {
      "text/plain": [
       "[Library(LibraryID=1, LibraryName='City Central Library', Location='Cityville', EstablishedYear=1950, BookCollectionSize=50000, AuthorList=[Author(AuthorID=1, AuthorName='J.K. Rowling', AuthorBirthdate='1965-07-31', BookList=[Book(BookID=1, Title=\"Harry Potter and the Philosopher's Stone\", Genre='Fantasy', PublishedYear=1997, AvailableCopies=5), Book(BookID=2, Title='Harry Potter and the Chamber of Secrets', Genre='Fantasy', PublishedYear=1998, AvailableCopies=3)]), Author(AuthorID=5, AuthorName='Mark Twain', AuthorBirthdate='1835-11-30', BookList=[Book(BookID=10, Title='The Adventures of Tom Sawyer', Genre='Adventure', PublishedYear=1876, AvailableCopies=2)])]),\n",
       " Library(LibraryID=2, LibraryName='Greenwood Public Library', Location='Greenwood', EstablishedYear=1975, BookCollectionSize=35000, AuthorList=[Author(AuthorID=2, AuthorName='George Orwell', AuthorBirthdate='1903-06-25', BookList=[Book(BookID=3, Title='1984', Genre='Dystopian Fiction', PublishedYear=1949, AvailableCopies=7)]), Author(AuthorID=6, AuthorName='J.R.R. Tolkien', AuthorBirthdate='1892-01-03', BookList=[Book(BookID=11, Title='The Hobbit', Genre='Fantasy', PublishedYear=1937, AvailableCopies=4)])]),\n",
       " Library(LibraryID=3, LibraryName='Lakeside Community Library', Location='Lakeside', EstablishedYear=1990, BookCollectionSize=25000, AuthorList=[Author(AuthorID=3, AuthorName='Jane Austen', AuthorBirthdate='1775-12-16', BookList=[Book(BookID=5, Title='Pride and Prejudice', Genre='Romance', PublishedYear=1813, AvailableCopies=6)])]),\n",
       " Library(LibraryID=4, LibraryName='Mountain View Library', Location='Mountain View', EstablishedYear=1982, BookCollectionSize=40000, AuthorList=[Author(AuthorID=4, AuthorName='Agatha Christie', AuthorBirthdate='1890-09-15', BookList=[Book(BookID=7, Title='Murder on the Orient Express', Genre='Mystery', PublishedYear=1934, AvailableCopies=1)]), Author(AuthorID=5, AuthorName='Mark Twain', AuthorBirthdate='1835-11-30', BookList=[Book(BookID=9, Title='Adventures of Huckleberry Finn', Genre='Adventure', PublishedYear=1884, AvailableCopies=4), Book(BookID=10, Title='The Adventures of Tom Sawyer', Genre='Adventure', PublishedYear=1876, AvailableCopies=6)]), Author(AuthorID=2, AuthorName='George Orwell', AuthorBirthdate='1903-06-25', BookList=[Book(BookID=4, Title='Animal Farm', Genre='Political Satire', PublishedYear=1945, AvailableCopies=1)]), Author(AuthorID=6, AuthorName='J.R.R. Tolkien', AuthorBirthdate='1892-01-03', BookList=[Book(BookID=12, Title='The Lord of the Rings', Genre='Fantasy', PublishedYear=1954, AvailableCopies=4)])]),\n",
       " Library(LibraryID=5, LibraryName='Sunset District Public Library', Location='Sunset District', EstablishedYear=1965, BookCollectionSize=30000, AuthorList=[Author(AuthorID=6, AuthorName='J.R.R. Tolkien', AuthorBirthdate='1892-01-03', BookList=[Book(BookID=11, Title='The Hobbit', Genre='Fantasy', PublishedYear=1937, AvailableCopies=6), Book(BookID=12, Title='The Lord of the Rings', Genre='Fantasy', PublishedYear=1954, AvailableCopies=3)]), Author(AuthorID=1, AuthorName='J.K. Rowling', AuthorBirthdate='1965-07-31', BookList=[Book(BookID=2, Title='Harry Potter and the Chamber of Secrets', Genre='Fantasy', PublishedYear=1998, AvailableCopies=3)]), Author(AuthorID=5, AuthorName='Mark Twain', AuthorBirthdate='1835-11-30', BookList=[Book(BookID=9, Title='Adventures of Huckleberry Finn', Genre='Adventure', PublishedYear=1884, AvailableCopies=4)])])]"
      ]
     },
     "execution_count": 11,
     "metadata": {},
     "output_type": "execute_result"
    }
   ],
   "source": [
    "libraryListRoot.root"
   ]
  },
  {
   "cell_type": "code",
   "execution_count": 13,
   "metadata": {},
   "outputs": [],
   "source": [
    "with open(DATA_PATH + \"test.json\", \"w\") as outfile:\n",
    "    outfile.write(libraryListRoot.model_dump_json())"
   ]
  },
  {
   "cell_type": "code",
   "execution_count": 14,
   "metadata": {},
   "outputs": [],
   "source": [
    "libraryJsonRoot = RootModel[list[Library]]\n",
    "\n",
    "with open(DATA_PATH + \"test.json\") as f:\n",
    "    jsonData = json.load(f)"
   ]
  }
 ],
 "metadata": {
  "kernelspec": {
   "display_name": ".venv",
   "language": "python",
   "name": "python3"
  },
  "language_info": {
   "codemirror_mode": {
    "name": "ipython",
    "version": 3
   },
   "file_extension": ".py",
   "mimetype": "text/x-python",
   "name": "python",
   "nbconvert_exporter": "python",
   "pygments_lexer": "ipython3",
   "version": "3.11.6"
  }
 },
 "nbformat": 4,
 "nbformat_minor": 2
}
