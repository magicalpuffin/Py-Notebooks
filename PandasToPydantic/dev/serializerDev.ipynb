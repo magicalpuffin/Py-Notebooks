{
 "cells": [
  {
   "cell_type": "code",
   "execution_count": 1,
   "metadata": {},
   "outputs": [],
   "source": [
    "import pandas as pd\n",
    "from pydantic import BaseModel, TypeAdapter\n",
    "from PandasToPydantic.test.testData.libraryTypes import Book, Author, Library\n",
    "from PandasToPydantic.test.config import LIBRARY_DATA_PATH\n",
    "from PandasToPydantic.src.dataframeSerializer import expandAnnotation, getBaseFields, getListFields, serializeDataframe\n"
   ]
  },
  {
   "cell_type": "code",
   "execution_count": 5,
   "metadata": {},
   "outputs": [],
   "source": [
    "data = pd.read_csv(LIBRARY_DATA_PATH)"
   ]
  },
  {
   "cell_type": "code",
   "execution_count": 7,
   "metadata": {},
   "outputs": [],
   "source": [
    "libraryList = serializeDataframe(data, expandAnnotation(Library))"
   ]
  },
  {
   "cell_type": "code",
   "execution_count": 8,
   "metadata": {},
   "outputs": [
    {
     "data": {
      "text/plain": [
       "{'LibraryID': 1,\n",
       " 'LibraryName': 'City Central Library',\n",
       " 'Location': 'Cityville',\n",
       " 'EstablishedYear': 1950,\n",
       " 'BookCollectionSize': 50000,\n",
       " 'AuthorList': [{'AuthorID': 1,\n",
       "   'AuthorName': 'J.K. Rowling',\n",
       "   'AuthorBirthdate': '1965-07-31',\n",
       "   'BookList': [{'BookID': 1,\n",
       "     'Title': \"Harry Potter and the Philosopher's Stone\",\n",
       "     'Genre': 'Fantasy',\n",
       "     'PublishedYear': 1997,\n",
       "     'AvailableCopies': 5}]},\n",
       "  {'AuthorID': 6,\n",
       "   'AuthorName': 'J.R.R. Tolkien',\n",
       "   'AuthorBirthdate': '1892-01-03',\n",
       "   'BookList': [{'BookID': 11,\n",
       "     'Title': 'The Hobbit',\n",
       "     'Genre': 'Fantasy',\n",
       "     'PublishedYear': 1937,\n",
       "     'AvailableCopies': 2}]},\n",
       "  {'AuthorID': 5,\n",
       "   'AuthorName': 'Mark Twain',\n",
       "   'AuthorBirthdate': '1835-11-30',\n",
       "   'BookList': [{'BookID': 10,\n",
       "     'Title': 'The Adventures of Tom Sawyer',\n",
       "     'Genre': 'Adventure',\n",
       "     'PublishedYear': 1876,\n",
       "     'AvailableCopies': 2}]}]}"
      ]
     },
     "execution_count": 8,
     "metadata": {},
     "output_type": "execute_result"
    }
   ],
   "source": [
    "libraryList[0]"
   ]
  }
 ],
 "metadata": {
  "kernelspec": {
   "display_name": ".venv",
   "language": "python",
   "name": "python3"
  },
  "language_info": {
   "codemirror_mode": {
    "name": "ipython",
    "version": 3
   },
   "file_extension": ".py",
   "mimetype": "text/x-python",
   "name": "python",
   "nbconvert_exporter": "python",
   "pygments_lexer": "ipython3",
   "version": "3.11.5"
  }
 },
 "nbformat": 4,
 "nbformat_minor": 2
}
