{
 "cells": [
  {
   "cell_type": "code",
   "execution_count": 22,
   "metadata": {},
   "outputs": [],
   "source": [
    "import pandas as pd\n",
    "import json\n",
    "from pydantic import BaseModel, TypeAdapter, RootModel\n",
    "from PandasToPydantic.test.testData.libraryTypes import Book, Author, Library\n",
    "from PandasToPydantic.test.config import LIBRARY_DATA_PATH\n",
    "from PandasToPydantic.src.dataframeSerializer import expandAnnotation, getBaseFields, getListFields, serializeDataframe, dataframeToPydantic"
   ]
  },
  {
   "cell_type": "code",
   "execution_count": 23,
   "metadata": {},
   "outputs": [],
   "source": [
    "data = pd.read_csv(LIBRARY_DATA_PATH)"
   ]
  },
  {
   "cell_type": "code",
   "execution_count": 24,
   "metadata": {},
   "outputs": [],
   "source": [
    "libraryListRoot = dataframeToPydantic(data, Library)"
   ]
  },
  {
   "cell_type": "code",
   "execution_count": 25,
   "metadata": {},
   "outputs": [
    {
     "data": {
      "text/plain": [
       "[Library(LibraryID=1, LibraryName='City Central Library', Location='Cityville', EstablishedYear=1950, BookCollectionSize=50000, AuthorList=[Author(AuthorID=1, AuthorName='J.K. Rowling', AuthorBirthdate='1965-07-31', BookList=[Book(BookID=1, Title=\"Harry Potter and the Philosopher's Stone\", Genre='Fantasy', PublishedYear=1997, AvailableCopies=5)]), Author(AuthorID=6, AuthorName='J.R.R. Tolkien', AuthorBirthdate='1892-01-03', BookList=[Book(BookID=11, Title='The Hobbit', Genre='Fantasy', PublishedYear=1937, AvailableCopies=2)]), Author(AuthorID=5, AuthorName='Mark Twain', AuthorBirthdate='1835-11-30', BookList=[Book(BookID=10, Title='The Adventures of Tom Sawyer', Genre='Adventure', PublishedYear=1876, AvailableCopies=2)])]),\n",
       " Library(LibraryID=2, LibraryName='Greenwood Public Library', Location='Greenwood', EstablishedYear=1975, BookCollectionSize=35000, AuthorList=[Author(AuthorID=2, AuthorName='George Orwell', AuthorBirthdate='1903-06-25', BookList=[Book(BookID=3, Title='1984', Genre='Dystopian Fiction', PublishedYear=1949, AvailableCopies=7)]), Author(AuthorID=6, AuthorName='J.R.R. Tolkien', AuthorBirthdate='1892-01-03', BookList=[Book(BookID=11, Title='The Hobbit', Genre='Fantasy', PublishedYear=1937, AvailableCopies=4)])]),\n",
       " Library(LibraryID=3, LibraryName='Lakeside Community Library', Location='Lakeside', EstablishedYear=1990, BookCollectionSize=25000, AuthorList=[Author(AuthorID=3, AuthorName='Jane Austen', AuthorBirthdate='1775-12-16', BookList=[Book(BookID=5, Title='Pride and Prejudice', Genre='Romance', PublishedYear=1813, AvailableCopies=6)])]),\n",
       " Library(LibraryID=4, LibraryName='Mountain View Library', Location='Mountain View', EstablishedYear=1982, BookCollectionSize=40000, AuthorList=[Author(AuthorID=4, AuthorName='Agatha Christie', AuthorBirthdate='1890-09-15', BookList=[Book(BookID=7, Title='Murder on the Orient Express', Genre='Mystery', PublishedYear=1934, AvailableCopies=1)]), Author(AuthorID=5, AuthorName='Mark Twain', AuthorBirthdate='1835-11-30', BookList=[Book(BookID=9, Title='Adventures of Huckleberry Finn', Genre='Adventure', PublishedYear=1884, AvailableCopies=4), Book(BookID=10, Title='The Adventures of Tom Sawyer', Genre='Adventure', PublishedYear=1876, AvailableCopies=6)]), Author(AuthorID=2, AuthorName='George Orwell', AuthorBirthdate='1903-06-25', BookList=[Book(BookID=4, Title='Animal Farm', Genre='Political Satire', PublishedYear=1945, AvailableCopies=1)]), Author(AuthorID=6, AuthorName='J.R.R. Tolkien', AuthorBirthdate='1892-01-03', BookList=[Book(BookID=12, Title='The Lord of the Rings', Genre='Fantasy', PublishedYear=1954, AvailableCopies=4)])]),\n",
       " Library(LibraryID=5, LibraryName='Sunset District Public Library', Location='Sunset District', EstablishedYear=1965, BookCollectionSize=30000, AuthorList=[Author(AuthorID=6, AuthorName='J.R.R. Tolkien', AuthorBirthdate='1892-01-03', BookList=[Book(BookID=11, Title='The Hobbit', Genre='Fantasy', PublishedYear=1937, AvailableCopies=6), Book(BookID=12, Title='The Lord of the Rings', Genre='Fantasy', PublishedYear=1954, AvailableCopies=3)]), Author(AuthorID=1, AuthorName='J.K. Rowling', AuthorBirthdate='1965-07-31', BookList=[Book(BookID=2, Title='Harry Potter and the Chamber of Secrets', Genre='Fantasy', PublishedYear=1998, AvailableCopies=3)]), Author(AuthorID=5, AuthorName='Mark Twain', AuthorBirthdate='1835-11-30', BookList=[Book(BookID=9, Title='Adventures of Huckleberry Finn', Genre='Adventure', PublishedYear=1884, AvailableCopies=4)])])]"
      ]
     },
     "execution_count": 25,
     "metadata": {},
     "output_type": "execute_result"
    }
   ],
   "source": [
    "libraryListRoot.root"
   ]
  },
  {
   "cell_type": "code",
   "execution_count": 32,
   "metadata": {},
   "outputs": [
    {
     "data": {
      "text/plain": [
       "[{'AuthorID': 4,\n",
       "  'AuthorName': 'Agatha Christie',\n",
       "  'AuthorBirthdate': '1890-09-15',\n",
       "  'BookList': [{'BookID': 7,\n",
       "    'Title': 'Murder on the Orient Express',\n",
       "    'Genre': 'Mystery',\n",
       "    'PublishedYear': 1934,\n",
       "    'AvailableCopies': 1}]},\n",
       " {'AuthorID': 5,\n",
       "  'AuthorName': 'Mark Twain',\n",
       "  'AuthorBirthdate': '1835-11-30',\n",
       "  'BookList': [{'BookID': 9,\n",
       "    'Title': 'Adventures of Huckleberry Finn',\n",
       "    'Genre': 'Adventure',\n",
       "    'PublishedYear': 1884,\n",
       "    'AvailableCopies': 4},\n",
       "   {'BookID': 10,\n",
       "    'Title': 'The Adventures of Tom Sawyer',\n",
       "    'Genre': 'Adventure',\n",
       "    'PublishedYear': 1876,\n",
       "    'AvailableCopies': 6}]},\n",
       " {'AuthorID': 2,\n",
       "  'AuthorName': 'George Orwell',\n",
       "  'AuthorBirthdate': '1903-06-25',\n",
       "  'BookList': [{'BookID': 4,\n",
       "    'Title': 'Animal Farm',\n",
       "    'Genre': 'Political Satire',\n",
       "    'PublishedYear': 1945,\n",
       "    'AvailableCopies': 1}]},\n",
       " {'AuthorID': 6,\n",
       "  'AuthorName': 'J.R.R. Tolkien',\n",
       "  'AuthorBirthdate': '1892-01-03',\n",
       "  'BookList': [{'BookID': 12,\n",
       "    'Title': 'The Lord of the Rings',\n",
       "    'Genre': 'Fantasy',\n",
       "    'PublishedYear': 1954,\n",
       "    'AvailableCopies': 4}]}]"
      ]
     },
     "execution_count": 32,
     "metadata": {},
     "output_type": "execute_result"
    }
   ],
   "source": [
    "libraryListRoot.model_dump()[3][\"AuthorList\"]"
   ]
  }
 ],
 "metadata": {
  "kernelspec": {
   "display_name": ".venv",
   "language": "python",
   "name": "python3"
  },
  "language_info": {
   "codemirror_mode": {
    "name": "ipython",
    "version": 3
   },
   "file_extension": ".py",
   "mimetype": "text/x-python",
   "name": "python",
   "nbconvert_exporter": "python",
   "pygments_lexer": "ipython3",
   "version": "3.11.5"
  }
 },
 "nbformat": 4,
 "nbformat_minor": 2
}
