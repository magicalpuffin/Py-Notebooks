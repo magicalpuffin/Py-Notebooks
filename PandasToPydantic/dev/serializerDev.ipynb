{
 "cells": [
  {
   "cell_type": "code",
   "execution_count": 1,
   "metadata": {},
   "outputs": [],
   "source": [
    "import pandas as pd\n",
    "from pydantic import BaseModel\n",
    "from PandasToPydantic.src.dataframeSerializer import expandAnnotation, getBaseFields, getListFields, serializeDataframe\n"
   ]
  },
  {
   "cell_type": "code",
   "execution_count": 2,
   "metadata": {},
   "outputs": [],
   "source": [
    "class ParentModel(BaseModel):\n",
    "    parentString: str\n",
    "    parentInteger: int\n",
    "    parentFloat: float\n",
    "    parentListString: list[str]\n",
    "\n"
   ]
  },
  {
   "cell_type": "code",
   "execution_count": 3,
   "metadata": {},
   "outputs": [
    {
     "data": {
      "text/plain": [
       "True"
      ]
     },
     "execution_count": 3,
     "metadata": {},
     "output_type": "execute_result"
    }
   ],
   "source": [
    "hasattr(ParentModel, \"__annotations__\")"
   ]
  },
  {
   "cell_type": "code",
   "execution_count": 4,
   "metadata": {},
   "outputs": [
    {
     "data": {
      "text/plain": [
       "{'parentString': str,\n",
       " 'parentInteger': int,\n",
       " 'parentFloat': float,\n",
       " 'parentListString': [str]}"
      ]
     },
     "execution_count": 4,
     "metadata": {},
     "output_type": "execute_result"
    }
   ],
   "source": [
    "expandAnnotation(ParentModel)"
   ]
  },
  {
   "cell_type": "code",
   "execution_count": 2,
   "metadata": {},
   "outputs": [],
   "source": [
    "class DataPoint(BaseModel):\n",
    "    DataName: str\n",
    "    DataType: str\n",
    "    DataValue: str\n",
    "\n",
    "class DataCollection(BaseModel):\n",
    "    CollectionName: str\n",
    "    CollectionDescription: str\n",
    "    DataPointList: list[DataPoint]\n",
    "\n",
    "class CollectionOperation(BaseModel):\n",
    "    OperationName: str\n",
    "    OperationUser: str\n",
    "    OperationDate: str\n",
    "    DataCollectionList: list[DataCollection]"
   ]
  },
  {
   "cell_type": "code",
   "execution_count": 16,
   "metadata": {},
   "outputs": [
    {
     "data": {
      "text/plain": [
       "{'DataName': str, 'DataType': str, 'DataValue': str}"
      ]
     },
     "execution_count": 16,
     "metadata": {},
     "output_type": "execute_result"
    }
   ],
   "source": [
    "expandAnnotation(DataPoint)"
   ]
  },
  {
   "cell_type": "code",
   "execution_count": 13,
   "metadata": {},
   "outputs": [],
   "source": [
    "data = pd.read_csv(\"PandasToPydantic/test/testData.csv\")"
   ]
  },
  {
   "cell_type": "code",
   "execution_count": 15,
   "metadata": {},
   "outputs": [
    {
     "data": {
      "text/plain": [
       "[{'OperationName': 'Operation 1',\n",
       "  'OperationUser': 'User 1',\n",
       "  'OperationDate': '2023-01-01',\n",
       "  'DataCollectionList': [{'CollectionName': 'Collection 1',\n",
       "    'CollectionDescription': 'Description 1',\n",
       "    'DataPointList': [{'DataName': 'Name 1',\n",
       "      'DataType': 'Type 1',\n",
       "      'DataValue': 'Value 2'},\n",
       "     {'DataName': 'Name 2', 'DataType': 'Type 2', 'DataValue': 'Value 1'},\n",
       "     {'DataName': 'Name 3', 'DataType': 'Type 2', 'DataValue': 'Value 1'}]},\n",
       "   {'CollectionName': 'Collection 2',\n",
       "    'CollectionDescription': 'Description 2',\n",
       "    'DataPointList': [{'DataName': 'Name 1',\n",
       "      'DataType': 'Type 1',\n",
       "      'DataValue': 'Value 2'},\n",
       "     {'DataName': 'Name 2', 'DataType': 'Type 2', 'DataValue': 'Value 1'}]}]},\n",
       " {'OperationName': 'Operation 2',\n",
       "  'OperationUser': 'User 2',\n",
       "  'OperationDate': '2023-02-02',\n",
       "  'DataCollectionList': [{'CollectionName': 'Collection 1',\n",
       "    'CollectionDescription': 'Description 1',\n",
       "    'DataPointList': [{'DataName': 'Name 1',\n",
       "      'DataType': 'Type 1',\n",
       "      'DataValue': 'Value 2'},\n",
       "     {'DataName': 'Name 2', 'DataType': 'Type 2', 'DataValue': 'Value 1'},\n",
       "     {'DataName': 'Name 3', 'DataType': 'Type 2', 'DataValue': 'Value 1'}]}]},\n",
       " {'OperationName': 'Operation 3',\n",
       "  'OperationUser': 'User 1',\n",
       "  'OperationDate': '2023-03-03',\n",
       "  'DataCollectionList': [{'CollectionName': 'Collection 2',\n",
       "    'CollectionDescription': 'Description 2',\n",
       "    'DataPointList': [{'DataName': 'Name 1',\n",
       "      'DataType': 'Type 1',\n",
       "      'DataValue': 'Value 2'},\n",
       "     {'DataName': 'Name 2', 'DataType': 'Type 2', 'DataValue': 'Value 1'}]},\n",
       "   {'CollectionName': 'Collection 3',\n",
       "    'CollectionDescription': 'Description 3',\n",
       "    'DataPointList': [{'DataName': 'Name 3',\n",
       "      'DataType': 'Type 2',\n",
       "      'DataValue': 'Value 1'},\n",
       "     {'DataName': 'Name 4', 'DataType': 'Type 3', 'DataValue': 'Value 3'}]}]}]"
      ]
     },
     "execution_count": 15,
     "metadata": {},
     "output_type": "execute_result"
    }
   ],
   "source": [
    "serializeDataframe(data, expandAnnotation(CollectionOperation))\n"
   ]
  },
  {
   "cell_type": "code",
   "execution_count": 6,
   "metadata": {},
   "outputs": [
    {
     "data": {
      "text/plain": [
       "[{'CollectionName': str,\n",
       "  'CollectionDescription': str,\n",
       "  'DataPointList': [{'DataName': str, 'DataType': str, 'DataValue': str}]}]"
      ]
     },
     "execution_count": 6,
     "metadata": {},
     "output_type": "execute_result"
    }
   ],
   "source": [
    "expandAnnotation(CollectionOperation)[\"DataCollectionList\"]"
   ]
  }
 ],
 "metadata": {
  "kernelspec": {
   "display_name": ".venv",
   "language": "python",
   "name": "python3"
  },
  "language_info": {
   "codemirror_mode": {
    "name": "ipython",
    "version": 3
   },
   "file_extension": ".py",
   "mimetype": "text/x-python",
   "name": "python",
   "nbconvert_exporter": "python",
   "pygments_lexer": "ipython3",
   "version": "3.11.5"
  }
 },
 "nbformat": 4,
 "nbformat_minor": 2
}
