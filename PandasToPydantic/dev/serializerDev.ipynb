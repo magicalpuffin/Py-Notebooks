{
 "cells": [
  {
   "cell_type": "code",
   "execution_count": 1,
   "metadata": {},
   "outputs": [],
   "source": [
    "import pandas as pd\n",
    "from pydantic import BaseModel, TypeAdapter\n",
    "from PandasToPydantic.src.dataframeSerializer import expandAnnotation, getBaseFields, getListFields, serializeDataframe\n"
   ]
  },
  {
   "cell_type": "code",
   "execution_count": 8,
   "metadata": {},
   "outputs": [],
   "source": [
    "class Foo(BaseModel):\n",
    "    a: int = 123\n",
    "    #: The sibling of `Foo` is referenced by string\n",
    "    sibling: 'Foo' = None"
   ]
  },
  {
   "cell_type": "code",
   "execution_count": 18,
   "metadata": {},
   "outputs": [],
   "source": [
    "class GrandChildModel(BaseModel):\n",
    "    grandChildString: str\n",
    "    grandChildInteger: int\n",
    "\n",
    "\n",
    "class ChildModel(BaseModel):\n",
    "    childString: str\n",
    "    childInteger: int\n",
    "    childListGrandChild: list[GrandChildModel]\n",
    "\n",
    "\n",
    "class ParentModel(BaseModel):\n",
    "    parentString: str\n",
    "    parentInteger: int\n",
    "    parentFloat: float\n",
    "    parentListChild: list[ChildModel]"
   ]
  },
  {
   "cell_type": "code",
   "execution_count": 14,
   "metadata": {},
   "outputs": [
    {
     "data": {
      "text/plain": [
       "{'parentString': str, 'parentInteger': int, 'parentFloat': float}"
      ]
     },
     "execution_count": 14,
     "metadata": {},
     "output_type": "execute_result"
    }
   ],
   "source": [
    "ParentModel.__annotations__"
   ]
  },
  {
   "cell_type": "code",
   "execution_count": 16,
   "metadata": {},
   "outputs": [
    {
     "data": {
      "text/plain": [
       "['parentString', 'parentInteger', 'parentFloat']"
      ]
     },
     "execution_count": 16,
     "metadata": {},
     "output_type": "execute_result"
    }
   ],
   "source": [
    "getBaseFields(expandAnnotation(ParentModel))"
   ]
  },
  {
   "cell_type": "code",
   "execution_count": 17,
   "metadata": {},
   "outputs": [
    {
     "data": {
      "text/plain": [
       "['parentString', 'parentInteger', 'parentFloat']"
      ]
     },
     "execution_count": 17,
     "metadata": {},
     "output_type": "execute_result"
    }
   ],
   "source": [
    "getBaseFields(ParentModel.__annotations__)"
   ]
  },
  {
   "cell_type": "code",
   "execution_count": 11,
   "metadata": {},
   "outputs": [
    {
     "data": {
      "text/plain": [
       "True"
      ]
     },
     "execution_count": 11,
     "metadata": {},
     "output_type": "execute_result"
    }
   ],
   "source": [
    "hasattr(ParentModel, \"__annotations__\")"
   ]
  },
  {
   "cell_type": "code",
   "execution_count": 12,
   "metadata": {},
   "outputs": [],
   "source": [
    "class DataPoint(BaseModel):\n",
    "    DataName: str\n",
    "    DataType: str\n",
    "    DataValue: str\n",
    "\n",
    "class DataCollection(BaseModel):\n",
    "    CollectionName: str\n",
    "    CollectionDescription: str\n",
    "    DataPointList: list[DataPoint]\n",
    "\n",
    "class CollectionOperation(BaseModel):\n",
    "    OperationName: str\n",
    "    OperationUser: str\n",
    "    OperationDate: str\n",
    "    DataCollectionList: list[DataCollection]\n",
    "\n",
    "collectionOperationList = TypeAdapter(list[CollectionOperation])"
   ]
  },
  {
   "cell_type": "code",
   "execution_count": 13,
   "metadata": {},
   "outputs": [
    {
     "data": {
      "text/plain": [
       "False"
      ]
     },
     "execution_count": 13,
     "metadata": {},
     "output_type": "execute_result"
    }
   ],
   "source": [
    "str.__base__ == BaseModel"
   ]
  },
  {
   "cell_type": "code",
   "execution_count": 14,
   "metadata": {},
   "outputs": [
    {
     "data": {
      "text/plain": [
       "True"
      ]
     },
     "execution_count": 14,
     "metadata": {},
     "output_type": "execute_result"
    }
   ],
   "source": [
    "CollectionOperation.__base__ == BaseModel"
   ]
  },
  {
   "cell_type": "code",
   "execution_count": 15,
   "metadata": {},
   "outputs": [],
   "source": [
    "data = pd.read_csv(\"PandasToPydantic/test/testData.csv\")"
   ]
  },
  {
   "cell_type": "code",
   "execution_count": 16,
   "metadata": {},
   "outputs": [],
   "source": [
    "serializedData = serializeDataframe(data, expandAnnotation(CollectionOperation))\n"
   ]
  },
  {
   "cell_type": "code",
   "execution_count": 17,
   "metadata": {},
   "outputs": [
    {
     "data": {
      "text/plain": [
       "[CollectionOperation(OperationName='Operation 1', OperationUser='User 1', OperationDate='2023-01-01', DataCollectionList=[DataCollection(CollectionName='Collection 1', CollectionDescription='Description 1', DataPointList=[DataPoint(DataName='Name 1', DataType='Type 1', DataValue='Value 2'), DataPoint(DataName='Name 2', DataType='Type 2', DataValue='Value 1'), DataPoint(DataName='Name 3', DataType='Type 2', DataValue='Value 1')]), DataCollection(CollectionName='Collection 2', CollectionDescription='Description 2', DataPointList=[DataPoint(DataName='Name 1', DataType='Type 1', DataValue='Value 2'), DataPoint(DataName='Name 2', DataType='Type 2', DataValue='Value 1')])]),\n",
       " CollectionOperation(OperationName='Operation 2', OperationUser='User 2', OperationDate='2023-02-02', DataCollectionList=[DataCollection(CollectionName='Collection 1', CollectionDescription='Description 1', DataPointList=[DataPoint(DataName='Name 1', DataType='Type 1', DataValue='Value 2'), DataPoint(DataName='Name 2', DataType='Type 2', DataValue='Value 1'), DataPoint(DataName='Name 3', DataType='Type 2', DataValue='Value 1')])]),\n",
       " CollectionOperation(OperationName='Operation 3', OperationUser='User 1', OperationDate='2023-03-03', DataCollectionList=[DataCollection(CollectionName='Collection 2', CollectionDescription='Description 2', DataPointList=[DataPoint(DataName='Name 1', DataType='Type 1', DataValue='Value 2'), DataPoint(DataName='Name 2', DataType='Type 2', DataValue='Value 1')]), DataCollection(CollectionName='Collection 3', CollectionDescription='Description 3', DataPointList=[DataPoint(DataName='Name 3', DataType='Type 2', DataValue='Value 1'), DataPoint(DataName='Name 4', DataType='Type 3', DataValue='Value 3')])])]"
      ]
     },
     "execution_count": 17,
     "metadata": {},
     "output_type": "execute_result"
    }
   ],
   "source": [
    "collectionOperationList.validate_python(serializedData)"
   ]
  },
  {
   "cell_type": "code",
   "execution_count": 18,
   "metadata": {},
   "outputs": [
    {
     "data": {
      "text/plain": [
       "[{'CollectionName': str,\n",
       "  'CollectionDescription': str,\n",
       "  'DataPointList': [{'DataName': str, 'DataType': str, 'DataValue': str}]}]"
      ]
     },
     "execution_count": 18,
     "metadata": {},
     "output_type": "execute_result"
    }
   ],
   "source": [
    "expandAnnotation(CollectionOperation)[\"DataCollectionList\"]"
   ]
  }
 ],
 "metadata": {
  "kernelspec": {
   "display_name": ".venv",
   "language": "python",
   "name": "python3"
  },
  "language_info": {
   "codemirror_mode": {
    "name": "ipython",
    "version": 3
   },
   "file_extension": ".py",
   "mimetype": "text/x-python",
   "name": "python",
   "nbconvert_exporter": "python",
   "pygments_lexer": "ipython3",
   "version": "3.11.5"
  }
 },
 "nbformat": 4,
 "nbformat_minor": 2
}
